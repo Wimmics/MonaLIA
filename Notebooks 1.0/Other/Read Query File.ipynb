{
 "cells": [
  {
   "cell_type": "code",
   "execution_count": 16,
   "metadata": {},
   "outputs": [],
   "source": [
    "import os\n",
    "\n",
    "file = open('C:/Users/abobashe/Documents/MonaLIA/Queries/MonaLIA.REPR Category Search.Images.rq','r') "
   ]
  },
  {
   "cell_type": "code",
   "execution_count": 17,
   "metadata": {},
   "outputs": [
    {
     "name": "stdout",
     "output_type": "stream",
     "text": [
      "# MonaLIA.REPR Category Search.Images.rq\n",
      "\n",
      "# Get main image pathes and represented subjects \n",
      "# of the art pieces belonging\n",
      "# to the  conceptual categories describing their represented subjects\n",
      "# in the hierarchy  below a search category (ex. \"animal\"@fr) \n",
      "# in the JocondeLab dataset\n",
      "# (duplicates are allowed)\n",
      "\n",
      "\n",
      "prefix skos: <http://www.w3.org/2004/02/skos/core#> .\n",
      "prefix jcl: <http://jocondelab.iri-research.org/ns/jocondelab/>\n",
      "\n",
      "select ?subCategory_label ?parentCategory_label ?noticeTitle ?imagePath ?noticeSubject ?noticeReference where {\n",
      " { \n",
      "\t?topCategory a jcl:Term\n",
      "  \t?topCategory skos:prefLabel \"animal\"@fr\n",
      "\n",
      "  \t?subCategory skos:broader{1,8} ?topCategory\n",
      "  \t?subCategory skos:prefLabel ?subCategory_label\t\n",
      "    \n",
      "  \t?parentCategory skos:narrower ?subCategory\n",
      "  \t?parentCategory skos:prefLabel ?parentCategory_label.\n",
      "}\n",
      "union\n",
      "{\n",
      "\t# add the top category as a subcategory\n",
      "\n",
      "\t?subCategory a jcl:Term\n",
      "  \t?subCategory skos:prefLabel \"animal\"@fr\n",
      "\t?subCategory skos:prefLabel ?subCategory_label\n",
      "\n",
      "\t#?parentCategory skos:narrower ?subCategory\n",
      "\t#?parentCategory skos:prefLabel ?parentCategory_label\n",
      "}\n",
      "\n",
      "\t?notice jcl:noticeReprTerm ?subCategory\n",
      "               ?notice jcl:noticeHasImage true               \n",
      "\t?notice jcl:noticeImage [ jcl:noticeImageIsMain true ; jcl:noticeImagePath ?imagePath]\n",
      "\t?notice jcl:noticeRef ?noticeReference\t\n",
      "\n",
      "               optional {?notice jcl:noticeDomn ?noticeDomain}\n",
      "\n",
      "\toptional {?notice jcl:noticeTitr ?noticeTitle }\n",
      "\toptional {?notice jcl:noticeRepr ?noticeSubject}\n",
      "\t\t\n",
      "\n",
      "    #uncomment the line below to get only a subset of concepts in the tree\n",
      "    #filter (contains( ?subCategory_label,  \"animal\"@fr) ) \n",
      "}\n",
      "order by ?parentCategory_label ?subCategory_label  ?noticeTitle\n",
      "\n",
      "\n"
     ]
    }
   ],
   "source": [
    "qs = file.read()\n",
    "print(qs)"
   ]
  },
  {
   "cell_type": "code",
   "execution_count": 18,
   "metadata": {},
   "outputs": [],
   "source": [
    "file.close()"
   ]
  },
  {
   "cell_type": "code",
   "execution_count": null,
   "metadata": {},
   "outputs": [],
   "source": []
  }
 ],
 "metadata": {
  "kernelspec": {
   "display_name": "Python 3",
   "language": "python",
   "name": "python3"
  },
  "language_info": {
   "codemirror_mode": {
    "name": "ipython",
    "version": 3
   },
   "file_extension": ".py",
   "mimetype": "text/x-python",
   "name": "python",
   "nbconvert_exporter": "python",
   "pygments_lexer": "ipython3",
   "version": "3.6.5"
  }
 },
 "nbformat": 4,
 "nbformat_minor": 2
}
