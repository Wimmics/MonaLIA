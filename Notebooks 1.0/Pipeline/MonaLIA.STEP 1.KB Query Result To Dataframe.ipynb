{
 "cells": [
  {
   "cell_type": "markdown",
   "metadata": {},
   "source": [
    "# Reading MonaLIA RDF Data\n",
    "To run the local SPARQL over HTTP I've installed Apache Jena Fuseki service; started the service with 20Gb memmory option; uploaded the Joconde files:\n",
    "    export_rdf_2018-03-21.ttl\n",
    "    reprskos.rdf\n",
    "    domnskos.rdf\n",
    "    skos.rdf\n",
    "    \n",
    "Dataset can be manages from http://localhost:3030   \n",
    "\n",
    "https://stackoverflow.com/questions/13897712/where-do-i-test-my-queries-for-my-rdf-written-in-sparql\n",
    "http://jena.apache.org/documentation/serving_data/index.html#download-fuseki1\n",
    "\n",
    "For RDF data to pandas dataframe conversion all credit to Ted Lawless\n",
    "https://lawlesst.github.io/notebook/sparql-dataframe.html"
   ]
  },
  {
   "cell_type": "code",
   "execution_count": 1,
   "metadata": {},
   "outputs": [],
   "source": [
    "import os\n",
    "import sys\n",
    "import numpy as np\n",
    "import pandas as pd\n",
    "\n",
    "import json\n",
    "from SPARQLWrapper import SPARQLWrapper, JSON, N3, XML"
   ]
  },
  {
   "cell_type": "code",
   "execution_count": 3,
   "metadata": {},
   "outputs": [
    {
     "data": {
      "text/plain": [
       "<module 'MonaLIA' from 'C:\\\\Users\\\\abobashe\\\\Documents\\\\MonaLIA\\\\Python Scripts\\\\MonaLIA.py'>"
      ]
     },
     "execution_count": 3,
     "metadata": {},
     "output_type": "execute_result"
    }
   ],
   "source": [
    "### Import MonaLIA library that is in the same directory ###\n",
    "if (os.getcwd() not in sys.path):\n",
    "    sys.path.append(os.getcwd())\n",
    "\n",
    "import MonaLIA    \n",
    "import importlib\n",
    "\n",
    "importlib.reload(MonaLIA)"
   ]
  },
  {
   "cell_type": "markdown",
   "metadata": {},
   "source": [
    "### Read the query string from the file\n",
    "\n",
    "The file can be developed in CORESE"
   ]
  },
  {
   "cell_type": "code",
   "execution_count": 12,
   "metadata": {},
   "outputs": [
    {
     "name": "stdout",
     "output_type": "stream",
     "text": [
      "#MonaLIA.DOMN Category Search.Images.rq\n",
      "# Get the count of the images per domain \n",
      "\n",
      "prefix skos: <http://www.w3.org/2004/02/skos/core#> \n",
      "prefix jcl: <http://jocondelab.iri-research.org/ns/jocondelab/>\n",
      "prefix dc: <http://purl.org/dc/elements/1.1/> \n",
      "\n",
      "select ?domain_label ?parentDomain_label  ?imagePath ?noticeReference\t\n",
      "where {\n",
      "\t\n",
      "\t?paintingDomain a jcl:Term.\n",
      "\t?paintingDomain skos:prefLabel \"peinture\"@fr.\n",
      "\t?paintingDomain skos:inScheme ?domainSchema.\n",
      "\t?domainSchema dc:identifier \"DOMN\".\n",
      "  \n",
      "  \t?parentDomain skos:narrower ?paintingDomain.\n",
      "  \t?parentDomain skos:prefLabel ?parentDomain_label.\n",
      "\n",
      "\t?domain skos:broader ?parentDomain.\n",
      "\t?domain skos:prefLabel ?domain_label.\n",
      "\n",
      "\t?notice jcl:noticeDomnTerm ?domain.\n",
      "               ?notice jcl:noticeHasImage true.\n",
      "\t?notice jcl:noticeImage [ jcl:noticeImageIsMain true ; jcl:noticeImagePath ?imagePath].\n",
      "\t?notice jcl:noticeRef ?noticeReference.\t\n",
      "}\n",
      "order by ?parentDomain_label ?domain_label\n",
      "\n"
     ]
    }
   ],
   "source": [
    "f = open('C:/Users/abobashe/Documents/MonaLIA/Queries/MonaLIA.DOMN Category Search.Images.rq', mode='rt', encoding='utf-8') \n",
    "qs = f.read()\n",
    "f.close()\n",
    "print(qs)"
   ]
  },
  {
   "cell_type": "markdown",
   "metadata": {},
   "source": [
    "#### Overwrite the query string if needed"
   ]
  },
  {
   "cell_type": "code",
   "execution_count": 12,
   "metadata": {},
   "outputs": [],
   "source": [
    "qs = '''\n",
    "prefix skos: <http://www.w3.org/2004/02/skos/core#> \n",
    "prefix jcl: <http://jocondelab.iri-research.org/ns/jocondelab/>\n",
    "\n",
    "#select ?parentCategory_label  ?subCategory_label   (count(?noticeReference) as ?c)  where {\n",
    "select ?subCategory_label ?parentCategory_label ?imagePath ?noticeReference where { \n",
    "\n",
    "VALUES (?topCategory_label)  { (\"âge et sexe\"@fr)   (\"animal\"@fr)   } .\n",
    "\n",
    "?topCategory a jcl:Term.\n",
    "?topCategory skos:prefLabel ?topCategory_label .\n",
    "?parentCategory skos:broader ?topCategory.\n",
    "?parentCategory  skos:prefLabel ?parentCategory_label.\n",
    "\n",
    "?subCategory skos:broader* ?parentCategory.\n",
    "?subCategory  skos:prefLabel ?subCategory_label.\n",
    "\n",
    "?notice jcl:noticeReprTerm ?subCategory.\n",
    "?notice jcl:noticeHasImage true.               \n",
    "?notice jcl:noticeImage [ jcl:noticeImageIsMain true ; jcl:noticeImagePath ?imagePath].\n",
    "?notice jcl:noticeRef ?noticeReference.\t\n",
    "}\n",
    "order by ?parentCategory_label ?subCategory_label\n",
    "'''"
   ]
  },
  {
   "cell_type": "markdown",
   "metadata": {},
   "source": [
    "### Specify local service"
   ]
  },
  {
   "cell_type": "code",
   "execution_count": 41,
   "metadata": {},
   "outputs": [],
   "source": [
    "wds = \"http://localhost:3030/Joconde/query\""
   ]
  },
  {
   "cell_type": "markdown",
   "metadata": {},
   "source": [
    "### Run the query"
   ]
  },
  {
   "cell_type": "code",
   "execution_count": 14,
   "metadata": {},
   "outputs": [],
   "source": [
    "image_set_df = MonaLIA.sparql_service_to_dataframe(wds, qs)"
   ]
  },
  {
   "cell_type": "markdown",
   "metadata": {},
   "source": [
    "#### Give the short column names"
   ]
  },
  {
   "cell_type": "code",
   "execution_count": 15,
   "metadata": {},
   "outputs": [
    {
     "name": "stdout",
     "output_type": "stream",
     "text": [
      "(242430, 4)\n"
     ]
    },
    {
     "data": {
      "text/html": [
       "<div>\n",
       "<style scoped>\n",
       "    .dataframe tbody tr th:only-of-type {\n",
       "        vertical-align: middle;\n",
       "    }\n",
       "\n",
       "    .dataframe tbody tr th {\n",
       "        vertical-align: top;\n",
       "    }\n",
       "\n",
       "    .dataframe thead th {\n",
       "        text-align: right;\n",
       "    }\n",
       "</style>\n",
       "<table border=\"1\" class=\"dataframe\">\n",
       "  <thead>\n",
       "    <tr style=\"text-align: right;\">\n",
       "      <th></th>\n",
       "      <th>category</th>\n",
       "      <th>parent</th>\n",
       "      <th>imagePath</th>\n",
       "      <th>ref</th>\n",
       "    </tr>\n",
       "  </thead>\n",
       "  <tbody>\n",
       "    <tr>\n",
       "      <th>0</th>\n",
       "      <td>art mobilier</td>\n",
       "      <td>domaine par support de conservation</td>\n",
       "      <td>/arc/0006/m500145_0000711_p.jpg</td>\n",
       "      <td>50010004390</td>\n",
       "    </tr>\n",
       "    <tr>\n",
       "      <th>1</th>\n",
       "      <td>art mobilier</td>\n",
       "      <td>domaine par support de conservation</td>\n",
       "      <td>/arc/0010/m500145_0016928_p.jpg</td>\n",
       "      <td>50010005721</td>\n",
       "    </tr>\n",
       "    <tr>\n",
       "      <th>2</th>\n",
       "      <td>art mobilier</td>\n",
       "      <td>domaine par support de conservation</td>\n",
       "      <td>/arc/0007/m500145_0002121_p.jpg</td>\n",
       "      <td>50010004447</td>\n",
       "    </tr>\n",
       "    <tr>\n",
       "      <th>3</th>\n",
       "      <td>art mobilier</td>\n",
       "      <td>domaine par support de conservation</td>\n",
       "      <td>/arc/0009/m500145_0007336_p.jpg</td>\n",
       "      <td>50010008271</td>\n",
       "    </tr>\n",
       "    <tr>\n",
       "      <th>4</th>\n",
       "      <td>art mobilier</td>\n",
       "      <td>domaine par support de conservation</td>\n",
       "      <td>/0055/m500145_0013990_p.jpg</td>\n",
       "      <td>50010008370</td>\n",
       "    </tr>\n",
       "  </tbody>\n",
       "</table>\n",
       "</div>"
      ],
      "text/plain": [
       "       category                               parent  \\\n",
       "0  art mobilier  domaine par support de conservation   \n",
       "1  art mobilier  domaine par support de conservation   \n",
       "2  art mobilier  domaine par support de conservation   \n",
       "3  art mobilier  domaine par support de conservation   \n",
       "4  art mobilier  domaine par support de conservation   \n",
       "\n",
       "                         imagePath          ref  \n",
       "0  /arc/0006/m500145_0000711_p.jpg  50010004390  \n",
       "1  /arc/0010/m500145_0016928_p.jpg  50010005721  \n",
       "2  /arc/0007/m500145_0002121_p.jpg  50010004447  \n",
       "3  /arc/0009/m500145_0007336_p.jpg  50010008271  \n",
       "4      /0055/m500145_0013990_p.jpg  50010008370  "
      ]
     },
     "execution_count": 15,
     "metadata": {},
     "output_type": "execute_result"
    }
   ],
   "source": [
    "col_names = ['category','parent', 'imagePath', 'ref' ]\n",
    "image_set_df.columns = col_names\n",
    "print(image_set_df.shape)\n",
    "image_set_df.head()"
   ]
  },
  {
   "cell_type": "markdown",
   "metadata": {},
   "source": [
    "#### Display image count per category"
   ]
  },
  {
   "cell_type": "code",
   "execution_count": 16,
   "metadata": {},
   "outputs": [
    {
     "data": {
      "text/html": [
       "<div>\n",
       "<style scoped>\n",
       "    .dataframe tbody tr th:only-of-type {\n",
       "        vertical-align: middle;\n",
       "    }\n",
       "\n",
       "    .dataframe tbody tr th {\n",
       "        vertical-align: top;\n",
       "    }\n",
       "\n",
       "    .dataframe thead th {\n",
       "        text-align: right;\n",
       "    }\n",
       "</style>\n",
       "<table border=\"1\" class=\"dataframe\">\n",
       "  <thead>\n",
       "    <tr style=\"text-align: right;\">\n",
       "      <th></th>\n",
       "      <th>parent</th>\n",
       "      <th>category</th>\n",
       "      <th>0</th>\n",
       "    </tr>\n",
       "  </thead>\n",
       "  <tbody>\n",
       "    <tr>\n",
       "      <th>0</th>\n",
       "      <td>domaine par support de conservation</td>\n",
       "      <td>art mobilier</td>\n",
       "      <td>906</td>\n",
       "    </tr>\n",
       "    <tr>\n",
       "      <th>1</th>\n",
       "      <td>domaine par support de conservation</td>\n",
       "      <td>dessin</td>\n",
       "      <td>155334</td>\n",
       "    </tr>\n",
       "    <tr>\n",
       "      <th>2</th>\n",
       "      <td>domaine par support de conservation</td>\n",
       "      <td>enluminure</td>\n",
       "      <td>69</td>\n",
       "    </tr>\n",
       "    <tr>\n",
       "      <th>3</th>\n",
       "      <td>domaine par support de conservation</td>\n",
       "      <td>estampe</td>\n",
       "      <td>24237</td>\n",
       "    </tr>\n",
       "    <tr>\n",
       "      <th>4</th>\n",
       "      <td>domaine par support de conservation</td>\n",
       "      <td>imprimé</td>\n",
       "      <td>1019</td>\n",
       "    </tr>\n",
       "    <tr>\n",
       "      <th>5</th>\n",
       "      <td>domaine par support de conservation</td>\n",
       "      <td>manuscrit</td>\n",
       "      <td>990</td>\n",
       "    </tr>\n",
       "    <tr>\n",
       "      <th>6</th>\n",
       "      <td>domaine par support de conservation</td>\n",
       "      <td>miniature</td>\n",
       "      <td>1820</td>\n",
       "    </tr>\n",
       "    <tr>\n",
       "      <th>7</th>\n",
       "      <td>domaine par support de conservation</td>\n",
       "      <td>peinture</td>\n",
       "      <td>31901</td>\n",
       "    </tr>\n",
       "    <tr>\n",
       "      <th>8</th>\n",
       "      <td>domaine par support de conservation</td>\n",
       "      <td>photographie</td>\n",
       "      <td>15492</td>\n",
       "    </tr>\n",
       "    <tr>\n",
       "      <th>9</th>\n",
       "      <td>domaine par support de conservation</td>\n",
       "      <td>plumasserie</td>\n",
       "      <td>4</td>\n",
       "    </tr>\n",
       "    <tr>\n",
       "      <th>10</th>\n",
       "      <td>domaine par support de conservation</td>\n",
       "      <td>sculpture</td>\n",
       "      <td>10658</td>\n",
       "    </tr>\n",
       "  </tbody>\n",
       "</table>\n",
       "</div>"
      ],
      "text/plain": [
       "                                 parent      category       0\n",
       "0   domaine par support de conservation  art mobilier     906\n",
       "1   domaine par support de conservation        dessin  155334\n",
       "2   domaine par support de conservation    enluminure      69\n",
       "3   domaine par support de conservation       estampe   24237\n",
       "4   domaine par support de conservation       imprimé    1019\n",
       "5   domaine par support de conservation     manuscrit     990\n",
       "6   domaine par support de conservation     miniature    1820\n",
       "7   domaine par support de conservation      peinture   31901\n",
       "8   domaine par support de conservation  photographie   15492\n",
       "9   domaine par support de conservation   plumasserie       4\n",
       "10  domaine par support de conservation     sculpture   10658"
      ]
     },
     "execution_count": 16,
     "metadata": {},
     "output_type": "execute_result"
    }
   ],
   "source": [
    "image_set_df.groupby(['parent','category']).size().reset_index()"
   ]
  },
  {
   "cell_type": "code",
   "execution_count": 17,
   "metadata": {},
   "outputs": [
    {
     "name": "stdout",
     "output_type": "stream",
     "text": [
      "Stored 'image_set_df' (DataFrame)\n"
     ]
    }
   ],
   "source": [
    "%store image_set_df"
   ]
  },
  {
   "cell_type": "markdown",
   "metadata": {},
   "source": [
    "#### Display duplicates \n",
    "images with more than one category assigned to it"
   ]
  },
  {
   "cell_type": "code",
   "execution_count": null,
   "metadata": {},
   "outputs": [],
   "source": [
    "c = pd.crosstab(index=image_set_df.ref, \n",
    "                              columns=\"ci\")\n",
    "c[c.ci > 1]"
   ]
  },
  {
   "cell_type": "code",
   "execution_count": null,
   "metadata": {},
   "outputs": [],
   "source": []
  },
  {
   "cell_type": "markdown",
   "metadata": {},
   "source": [
    "### Scrapbook"
   ]
  },
  {
   "cell_type": "code",
   "execution_count": 34,
   "metadata": {},
   "outputs": [],
   "source": [
    "qs1 = '''\n",
    "PREFIX rdf: <http://www.w3.org/1999/02/22-rdf-syntax-ns#>\n",
    "prefix skos: <http://www.w3.org/2004/02/skos/core#> \n",
    "prefix jcl: <http://jocondelab.iri-research.org/ns/jocondelab/>\n",
    "prefix dc: <http://purl.org/dc/elements/1.1/> \n",
    "prefix rdf:   <http://www.w3.org/1999/02/22-rdf-syntax-ns#> \n",
    "\n",
    "select ?x ?v where {\n",
    "  \n",
    "  VALUES ?v {\"000PE000001\" \"00000102827\"}.\n",
    "  ?x jcl:noticeRef ?v.\n",
    "}\n",
    "\n",
    "'''\n",
    "qs1 = '''select * where { ?o ?p ?s } limit 10'''"
   ]
  },
  {
   "cell_type": "code",
   "execution_count": 35,
   "metadata": {},
   "outputs": [],
   "source": [
    "wds1 = \"http://localhost:8080/sparql/\""
   ]
  },
  {
   "cell_type": "code",
   "execution_count": 43,
   "metadata": {},
   "outputs": [
    {
     "data": {
      "text/html": [
       "<div>\n",
       "<style scoped>\n",
       "    .dataframe tbody tr th:only-of-type {\n",
       "        vertical-align: middle;\n",
       "    }\n",
       "\n",
       "    .dataframe tbody tr th {\n",
       "        vertical-align: top;\n",
       "    }\n",
       "\n",
       "    .dataframe thead th {\n",
       "        text-align: right;\n",
       "    }\n",
       "</style>\n",
       "<table border=\"1\" class=\"dataframe\">\n",
       "  <thead>\n",
       "    <tr style=\"text-align: right;\">\n",
       "      <th></th>\n",
       "      <th>o</th>\n",
       "      <th>s</th>\n",
       "      <th>p</th>\n",
       "    </tr>\n",
       "  </thead>\n",
       "  <tbody>\n",
       "    <tr>\n",
       "      <th>0</th>\n",
       "      <td>http://www.inria.fr/2015/humans#Man</td>\n",
       "      <td>http://anny.ad.inria.fr:8080/img/male.png</td>\n",
       "      <td>http://ns.inria.fr/sparql-template/icon</td>\n",
       "    </tr>\n",
       "    <tr>\n",
       "      <th>1</th>\n",
       "      <td>http://www.inria.fr/2015/humans#Person</td>\n",
       "      <td>http://anny.ad.inria.fr:8080/img/person.png</td>\n",
       "      <td>http://ns.inria.fr/sparql-template/icon</td>\n",
       "    </tr>\n",
       "    <tr>\n",
       "      <th>2</th>\n",
       "      <td>http://www.inria.fr/2015/humans#Lecturer</td>\n",
       "      <td>http://anny.ad.inria.fr:8080/img/professor.jpg</td>\n",
       "      <td>http://ns.inria.fr/sparql-template/icon</td>\n",
       "    </tr>\n",
       "    <tr>\n",
       "      <th>3</th>\n",
       "      <td>http://www.inria.fr/2015/humans#Researcher</td>\n",
       "      <td>http://anny.ad.inria.fr:8080/img/professor.jpg</td>\n",
       "      <td>http://ns.inria.fr/sparql-template/icon</td>\n",
       "    </tr>\n",
       "    <tr>\n",
       "      <th>4</th>\n",
       "      <td>http://www.inria.fr/2015/humans#Woman</td>\n",
       "      <td>http://anny.ad.inria.fr:8080/img/female.png</td>\n",
       "      <td>http://ns.inria.fr/sparql-template/icon</td>\n",
       "    </tr>\n",
       "    <tr>\n",
       "      <th>5</th>\n",
       "      <td>http://www.inria.fr/2015/humans-instances#John</td>\n",
       "      <td>37</td>\n",
       "      <td>http://www.inria.fr/2015/humans#age</td>\n",
       "    </tr>\n",
       "    <tr>\n",
       "      <th>6</th>\n",
       "      <td>http://www.inria.fr/2015/humans-instances#Mark</td>\n",
       "      <td>14</td>\n",
       "      <td>http://www.inria.fr/2015/humans#age</td>\n",
       "    </tr>\n",
       "    <tr>\n",
       "      <th>7</th>\n",
       "      <td>http://www.inria.fr/2015/humans-instances#Gaston</td>\n",
       "      <td>102</td>\n",
       "      <td>http://www.inria.fr/2015/humans#age</td>\n",
       "    </tr>\n",
       "    <tr>\n",
       "      <th>8</th>\n",
       "      <td>http://www.inria.fr/2015/humans-instances#Flora</td>\n",
       "      <td>95</td>\n",
       "      <td>http://www.inria.fr/2015/humans#age</td>\n",
       "    </tr>\n",
       "    <tr>\n",
       "      <th>9</th>\n",
       "      <td>http://www.inria.fr/2015/humans-instances#Pierre</td>\n",
       "      <td>71</td>\n",
       "      <td>http://www.inria.fr/2015/humans#age</td>\n",
       "    </tr>\n",
       "  </tbody>\n",
       "</table>\n",
       "</div>"
      ],
      "text/plain": [
       "                                                  o  \\\n",
       "0               http://www.inria.fr/2015/humans#Man   \n",
       "1            http://www.inria.fr/2015/humans#Person   \n",
       "2          http://www.inria.fr/2015/humans#Lecturer   \n",
       "3        http://www.inria.fr/2015/humans#Researcher   \n",
       "4             http://www.inria.fr/2015/humans#Woman   \n",
       "5    http://www.inria.fr/2015/humans-instances#John   \n",
       "6    http://www.inria.fr/2015/humans-instances#Mark   \n",
       "7  http://www.inria.fr/2015/humans-instances#Gaston   \n",
       "8   http://www.inria.fr/2015/humans-instances#Flora   \n",
       "9  http://www.inria.fr/2015/humans-instances#Pierre   \n",
       "\n",
       "                                                s  \\\n",
       "0       http://anny.ad.inria.fr:8080/img/male.png   \n",
       "1     http://anny.ad.inria.fr:8080/img/person.png   \n",
       "2  http://anny.ad.inria.fr:8080/img/professor.jpg   \n",
       "3  http://anny.ad.inria.fr:8080/img/professor.jpg   \n",
       "4     http://anny.ad.inria.fr:8080/img/female.png   \n",
       "5                                              37   \n",
       "6                                              14   \n",
       "7                                             102   \n",
       "8                                              95   \n",
       "9                                              71   \n",
       "\n",
       "                                         p  \n",
       "0  http://ns.inria.fr/sparql-template/icon  \n",
       "1  http://ns.inria.fr/sparql-template/icon  \n",
       "2  http://ns.inria.fr/sparql-template/icon  \n",
       "3  http://ns.inria.fr/sparql-template/icon  \n",
       "4  http://ns.inria.fr/sparql-template/icon  \n",
       "5      http://www.inria.fr/2015/humans#age  \n",
       "6      http://www.inria.fr/2015/humans#age  \n",
       "7      http://www.inria.fr/2015/humans#age  \n",
       "8      http://www.inria.fr/2015/humans#age  \n",
       "9      http://www.inria.fr/2015/humans#age  "
      ]
     },
     "execution_count": 43,
     "metadata": {},
     "output_type": "execute_result"
    }
   ],
   "source": [
    "image_set_df = MonaLIA.sparql_service_to_dataframe(wds1, qs1)\n",
    "image_set_df"
   ]
  },
  {
   "cell_type": "code",
   "execution_count": 37,
   "metadata": {},
   "outputs": [
    {
     "ename": "JSONDecodeError",
     "evalue": "Expecting value: line 1 column 1 (char 0)",
     "output_type": "error",
     "traceback": [
      "\u001b[1;31m---------------------------------------------------------------------------\u001b[0m",
      "\u001b[1;31mJSONDecodeError\u001b[0m                           Traceback (most recent call last)",
      "\u001b[1;32m<ipython-input-37-333f161f8140>\u001b[0m in \u001b[0;36m<module>\u001b[1;34m()\u001b[0m\n\u001b[0;32m      8\u001b[0m \u001b[0mcols\u001b[0m \u001b[1;33m=\u001b[0m \u001b[0mprocessed_results\u001b[0m\u001b[1;33m[\u001b[0m\u001b[1;34m'head'\u001b[0m\u001b[1;33m]\u001b[0m\u001b[1;33m[\u001b[0m\u001b[1;34m'vars'\u001b[0m\u001b[1;33m]\u001b[0m\u001b[1;33m\u001b[0m\u001b[0m\n\u001b[0;32m      9\u001b[0m \u001b[1;33m\u001b[0m\u001b[0m\n\u001b[1;32m---> 10\u001b[1;33m \u001b[0mresult\u001b[0m\u001b[1;33m.\u001b[0m\u001b[0mconvert\u001b[0m\u001b[1;33m(\u001b[0m\u001b[1;33m)\u001b[0m\u001b[1;33m\u001b[0m\u001b[0m\n\u001b[0m\u001b[0;32m     11\u001b[0m \u001b[1;33m\u001b[0m\u001b[0m\n\u001b[0;32m     12\u001b[0m \u001b[1;31m#result.response.read()\u001b[0m\u001b[1;33m\u001b[0m\u001b[1;33m\u001b[0m\u001b[0m\n",
      "\u001b[1;32m~\\AppData\\Local\\Continuum\\anaconda3\\lib\\site-packages\\SPARQLWrapper\\Wrapper.py\u001b[0m in \u001b[0;36mconvert\u001b[1;34m(self)\u001b[0m\n\u001b[0;32m    973\u001b[0m             \u001b[1;32melif\u001b[0m \u001b[0m_content_type_in_list\u001b[0m\u001b[1;33m(\u001b[0m\u001b[0mct\u001b[0m\u001b[1;33m,\u001b[0m \u001b[0m_SPARQL_JSON\u001b[0m\u001b[1;33m)\u001b[0m\u001b[1;33m:\u001b[0m\u001b[1;33m\u001b[0m\u001b[0m\n\u001b[0;32m    974\u001b[0m                 \u001b[0m_validate_format\u001b[0m\u001b[1;33m(\u001b[0m\u001b[1;34m\"JSON\"\u001b[0m\u001b[1;33m,\u001b[0m \u001b[1;33m[\u001b[0m\u001b[0mJSON\u001b[0m\u001b[1;33m]\u001b[0m\u001b[1;33m,\u001b[0m \u001b[0mct\u001b[0m\u001b[1;33m,\u001b[0m \u001b[0mself\u001b[0m\u001b[1;33m.\u001b[0m\u001b[0mrequestedFormat\u001b[0m\u001b[1;33m)\u001b[0m\u001b[1;33m\u001b[0m\u001b[0m\n\u001b[1;32m--> 975\u001b[1;33m                 \u001b[1;32mreturn\u001b[0m \u001b[0mself\u001b[0m\u001b[1;33m.\u001b[0m\u001b[0m_convertJSON\u001b[0m\u001b[1;33m(\u001b[0m\u001b[1;33m)\u001b[0m\u001b[1;33m\u001b[0m\u001b[0m\n\u001b[0m\u001b[0;32m    976\u001b[0m             \u001b[1;32melif\u001b[0m \u001b[0m_content_type_in_list\u001b[0m\u001b[1;33m(\u001b[0m\u001b[0mct\u001b[0m\u001b[1;33m,\u001b[0m \u001b[0m_RDF_XML\u001b[0m\u001b[1;33m)\u001b[0m\u001b[1;33m:\u001b[0m\u001b[1;33m\u001b[0m\u001b[0m\n\u001b[0;32m    977\u001b[0m                 \u001b[0m_validate_format\u001b[0m\u001b[1;33m(\u001b[0m\u001b[1;34m\"RDF/XML\"\u001b[0m\u001b[1;33m,\u001b[0m \u001b[1;33m[\u001b[0m\u001b[0mRDF\u001b[0m\u001b[1;33m,\u001b[0m \u001b[0mXML\u001b[0m\u001b[1;33m,\u001b[0m \u001b[0mRDFXML\u001b[0m\u001b[1;33m]\u001b[0m\u001b[1;33m,\u001b[0m \u001b[0mct\u001b[0m\u001b[1;33m,\u001b[0m \u001b[0mself\u001b[0m\u001b[1;33m.\u001b[0m\u001b[0mrequestedFormat\u001b[0m\u001b[1;33m)\u001b[0m\u001b[1;33m\u001b[0m\u001b[0m\n",
      "\u001b[1;32m~\\AppData\\Local\\Continuum\\anaconda3\\lib\\site-packages\\SPARQLWrapper\\Wrapper.py\u001b[0m in \u001b[0;36m_convertJSON\u001b[1;34m(self)\u001b[0m\n\u001b[0;32m    873\u001b[0m         \u001b[1;33m@\u001b[0m\u001b[0mrtype\u001b[0m\u001b[1;33m:\u001b[0m \u001b[0mdict\u001b[0m\u001b[1;33m\u001b[0m\u001b[0m\n\u001b[0;32m    874\u001b[0m         \"\"\"\n\u001b[1;32m--> 875\u001b[1;33m         \u001b[1;32mreturn\u001b[0m \u001b[0mjson\u001b[0m\u001b[1;33m.\u001b[0m\u001b[0mloads\u001b[0m\u001b[1;33m(\u001b[0m\u001b[0mself\u001b[0m\u001b[1;33m.\u001b[0m\u001b[0mresponse\u001b[0m\u001b[1;33m.\u001b[0m\u001b[0mread\u001b[0m\u001b[1;33m(\u001b[0m\u001b[1;33m)\u001b[0m\u001b[1;33m.\u001b[0m\u001b[0mdecode\u001b[0m\u001b[1;33m(\u001b[0m\u001b[1;34m\"utf-8\"\u001b[0m\u001b[1;33m)\u001b[0m\u001b[1;33m)\u001b[0m\u001b[1;33m\u001b[0m\u001b[0m\n\u001b[0m\u001b[0;32m    876\u001b[0m \u001b[1;33m\u001b[0m\u001b[0m\n\u001b[0;32m    877\u001b[0m     \u001b[1;32mdef\u001b[0m \u001b[0m_convertXML\u001b[0m\u001b[1;33m(\u001b[0m\u001b[0mself\u001b[0m\u001b[1;33m)\u001b[0m\u001b[1;33m:\u001b[0m\u001b[1;33m\u001b[0m\u001b[0m\n",
      "\u001b[1;32m~\\AppData\\Local\\Continuum\\anaconda3\\lib\\json\\__init__.py\u001b[0m in \u001b[0;36mloads\u001b[1;34m(s, encoding, cls, object_hook, parse_float, parse_int, parse_constant, object_pairs_hook, **kw)\u001b[0m\n\u001b[0;32m    352\u001b[0m             \u001b[0mparse_int\u001b[0m \u001b[1;32mis\u001b[0m \u001b[1;32mNone\u001b[0m \u001b[1;32mand\u001b[0m \u001b[0mparse_float\u001b[0m \u001b[1;32mis\u001b[0m \u001b[1;32mNone\u001b[0m \u001b[1;32mand\u001b[0m\u001b[1;33m\u001b[0m\u001b[0m\n\u001b[0;32m    353\u001b[0m             parse_constant is None and object_pairs_hook is None and not kw):\n\u001b[1;32m--> 354\u001b[1;33m         \u001b[1;32mreturn\u001b[0m \u001b[0m_default_decoder\u001b[0m\u001b[1;33m.\u001b[0m\u001b[0mdecode\u001b[0m\u001b[1;33m(\u001b[0m\u001b[0ms\u001b[0m\u001b[1;33m)\u001b[0m\u001b[1;33m\u001b[0m\u001b[0m\n\u001b[0m\u001b[0;32m    355\u001b[0m     \u001b[1;32mif\u001b[0m \u001b[0mcls\u001b[0m \u001b[1;32mis\u001b[0m \u001b[1;32mNone\u001b[0m\u001b[1;33m:\u001b[0m\u001b[1;33m\u001b[0m\u001b[0m\n\u001b[0;32m    356\u001b[0m         \u001b[0mcls\u001b[0m \u001b[1;33m=\u001b[0m \u001b[0mJSONDecoder\u001b[0m\u001b[1;33m\u001b[0m\u001b[0m\n",
      "\u001b[1;32m~\\AppData\\Local\\Continuum\\anaconda3\\lib\\json\\decoder.py\u001b[0m in \u001b[0;36mdecode\u001b[1;34m(self, s, _w)\u001b[0m\n\u001b[0;32m    337\u001b[0m \u001b[1;33m\u001b[0m\u001b[0m\n\u001b[0;32m    338\u001b[0m         \"\"\"\n\u001b[1;32m--> 339\u001b[1;33m         \u001b[0mobj\u001b[0m\u001b[1;33m,\u001b[0m \u001b[0mend\u001b[0m \u001b[1;33m=\u001b[0m \u001b[0mself\u001b[0m\u001b[1;33m.\u001b[0m\u001b[0mraw_decode\u001b[0m\u001b[1;33m(\u001b[0m\u001b[0ms\u001b[0m\u001b[1;33m,\u001b[0m \u001b[0midx\u001b[0m\u001b[1;33m=\u001b[0m\u001b[0m_w\u001b[0m\u001b[1;33m(\u001b[0m\u001b[0ms\u001b[0m\u001b[1;33m,\u001b[0m \u001b[1;36m0\u001b[0m\u001b[1;33m)\u001b[0m\u001b[1;33m.\u001b[0m\u001b[0mend\u001b[0m\u001b[1;33m(\u001b[0m\u001b[1;33m)\u001b[0m\u001b[1;33m)\u001b[0m\u001b[1;33m\u001b[0m\u001b[0m\n\u001b[0m\u001b[0;32m    340\u001b[0m         \u001b[0mend\u001b[0m \u001b[1;33m=\u001b[0m \u001b[0m_w\u001b[0m\u001b[1;33m(\u001b[0m\u001b[0ms\u001b[0m\u001b[1;33m,\u001b[0m \u001b[0mend\u001b[0m\u001b[1;33m)\u001b[0m\u001b[1;33m.\u001b[0m\u001b[0mend\u001b[0m\u001b[1;33m(\u001b[0m\u001b[1;33m)\u001b[0m\u001b[1;33m\u001b[0m\u001b[0m\n\u001b[0;32m    341\u001b[0m         \u001b[1;32mif\u001b[0m \u001b[0mend\u001b[0m \u001b[1;33m!=\u001b[0m \u001b[0mlen\u001b[0m\u001b[1;33m(\u001b[0m\u001b[0ms\u001b[0m\u001b[1;33m)\u001b[0m\u001b[1;33m:\u001b[0m\u001b[1;33m\u001b[0m\u001b[0m\n",
      "\u001b[1;32m~\\AppData\\Local\\Continuum\\anaconda3\\lib\\json\\decoder.py\u001b[0m in \u001b[0;36mraw_decode\u001b[1;34m(self, s, idx)\u001b[0m\n\u001b[0;32m    355\u001b[0m             \u001b[0mobj\u001b[0m\u001b[1;33m,\u001b[0m \u001b[0mend\u001b[0m \u001b[1;33m=\u001b[0m \u001b[0mself\u001b[0m\u001b[1;33m.\u001b[0m\u001b[0mscan_once\u001b[0m\u001b[1;33m(\u001b[0m\u001b[0ms\u001b[0m\u001b[1;33m,\u001b[0m \u001b[0midx\u001b[0m\u001b[1;33m)\u001b[0m\u001b[1;33m\u001b[0m\u001b[0m\n\u001b[0;32m    356\u001b[0m         \u001b[1;32mexcept\u001b[0m \u001b[0mStopIteration\u001b[0m \u001b[1;32mas\u001b[0m \u001b[0merr\u001b[0m\u001b[1;33m:\u001b[0m\u001b[1;33m\u001b[0m\u001b[0m\n\u001b[1;32m--> 357\u001b[1;33m             \u001b[1;32mraise\u001b[0m \u001b[0mJSONDecodeError\u001b[0m\u001b[1;33m(\u001b[0m\u001b[1;34m\"Expecting value\"\u001b[0m\u001b[1;33m,\u001b[0m \u001b[0ms\u001b[0m\u001b[1;33m,\u001b[0m \u001b[0merr\u001b[0m\u001b[1;33m.\u001b[0m\u001b[0mvalue\u001b[0m\u001b[1;33m)\u001b[0m \u001b[1;32mfrom\u001b[0m \u001b[1;32mNone\u001b[0m\u001b[1;33m\u001b[0m\u001b[0m\n\u001b[0m\u001b[0;32m    358\u001b[0m         \u001b[1;32mreturn\u001b[0m \u001b[0mobj\u001b[0m\u001b[1;33m,\u001b[0m \u001b[0mend\u001b[0m\u001b[1;33m\u001b[0m\u001b[0m\n",
      "\u001b[1;31mJSONDecodeError\u001b[0m: Expecting value: line 1 column 1 (char 0)"
     ]
    }
   ],
   "source": [
    "import xml\n",
    "sparql = SPARQLWrapper(wds1, returnFormat=JSON)\n",
    "sparql.setQuery(qs1)\n",
    "#sparql.setMethod(POST )\n",
    "result = sparql.query()\n",
    "\n",
    "#processed_results = json.load(result.response)\n",
    "#cols = processed_results['head']['vars']\n",
    "\n",
    "#result.convert()\n",
    "\n",
    "#result.response.read()"
   ]
  },
  {
   "cell_type": "code",
   "execution_count": 16,
   "metadata": {},
   "outputs": [
    {
     "data": {
      "text/plain": [
       "'application/sparql-results+json,application/json,text/javascript,application/javascript'"
      ]
     },
     "execution_count": 16,
     "metadata": {},
     "output_type": "execute_result"
    }
   ],
   "source": [
    "sparql._getAcceptHeader()"
   ]
  },
  {
   "cell_type": "code",
   "execution_count": 9,
   "metadata": {},
   "outputs": [],
   "source": [
    "SPARQLWrapper??"
   ]
  },
  {
   "cell_type": "code",
   "execution_count": 6,
   "metadata": {},
   "outputs": [
    {
     "data": {
      "text/plain": [
       "'application/sparql-results+json,application/json,text/javascript,application/javascript'"
      ]
     },
     "execution_count": 6,
     "metadata": {},
     "output_type": "execute_result"
    }
   ],
   "source": [
    "from SPARQLWrapper import SPARQLWrapper, JSON, XML, TURTLE, TSV, POSTDIRECTLY , POST\n",
    "sparql = SPARQLWrapper(wds)\n",
    "sparql.setQuery(qs1)\n",
    "sparql.setReturnFormat(JSON)\n",
    "sparql.setMethod(POST )\n",
    "result = sparql.query()\n",
    "\n",
    "#processed_results = json.load(result.response)\n",
    "#cols = processed_results['head']['vars']\n",
    "\n",
    "#result.response.read()\n",
    "\n",
    "sparql._getAcceptHeader()"
   ]
  },
  {
   "cell_type": "code",
   "execution_count": null,
   "metadata": {},
   "outputs": [],
   "source": [
    "image_set_df.head()"
   ]
  },
  {
   "cell_type": "code",
   "execution_count": 31,
   "metadata": {},
   "outputs": [
    {
     "data": {
      "text/plain": [
       "b'<?xml version=\"1.0\" ?>\\r\\n<sparql xmlns=\\'http://www.w3.org/2005/sparql-results#\\'>\\r\\n<head>\\r\\n<variable name=\\'x\\'/>\\r\\n<variable name=\\'y\\'/>\\r\\n<variable name=\\'p\\'/>\\r\\n</head>\\r\\n<results>\\r\\n<result>\\r\\n<binding name=\\'x\\'><bnode>_:b639</bnode></binding>\\r\\n<binding name=\\'y\\'><literal datatype=\\'http://www.w3.org/2001/XMLSchema#integer\\'>1641</literal></binding>\\r\\n<binding name=\\'p\\'><uri>http://jocondelab.iri-research.org/ns/jocondelab/YearInfoEnd</uri></binding>\\r\\n</result>\\r\\n<result>\\r\\n<binding name=\\'x\\'><bnode>_:b655</bnode></binding>\\r\\n<binding name=\\'y\\'><literal datatype=\\'http://www.w3.org/2001/XMLSchema#integer\\'>1757</literal></binding>\\r\\n<binding name=\\'p\\'><uri>http://jocondelab.iri-research.org/ns/jocondelab/YearInfoEnd</uri></binding>\\r\\n</result>\\r\\n<result>\\r\\n<binding name=\\'x\\'><bnode>_:b680</bnode></binding>\\r\\n<binding name=\\'y\\'><literal datatype=\\'http://www.w3.org/2001/XMLSchema#integer\\'>1844</literal></binding>\\r\\n<binding name=\\'p\\'><uri>http://jocondelab.iri-research.org/ns/jocondelab/YearInfoEnd</uri></binding>\\r\\n</result>\\r\\n<result>\\r\\n<binding name=\\'x\\'><bnode>_:b709</bnode></binding>\\r\\n<binding name=\\'y\\'><literal datatype=\\'http://www.w3.org/2001/XMLSchema#integer\\'>1938</literal></binding>\\r\\n<binding name=\\'p\\'><uri>http://jocondelab.iri-research.org/ns/jocondelab/YearInfoEnd</uri></binding>\\r\\n</result>\\r\\n<result>\\r\\n<binding name=\\'x\\'><bnode>_:b720</bnode></binding>\\r\\n<binding name=\\'y\\'><literal datatype=\\'http://www.w3.org/2001/XMLSchema#integer\\'>1916</literal></binding>\\r\\n<binding name=\\'p\\'><uri>http://jocondelab.iri-research.org/ns/jocondelab/YearInfoEnd</uri></binding>\\r\\n</result>\\r\\n<result>\\r\\n<binding name=\\'x\\'><bnode>_:b733</bnode></binding>\\r\\n<binding name=\\'y\\'><literal datatype=\\'http://www.w3.org/2001/XMLSchema#integer\\'>1834</literal></binding>\\r\\n<binding name=\\'p\\'><uri>http://jocondelab.iri-research.org/ns/jocondelab/YearInfoEnd</uri></binding>\\r\\n</result>\\r\\n<result>\\r\\n<binding name=\\'x\\'><bnode>_:b742</bnode></binding>\\r\\n<binding name=\\'y\\'><literal datatype=\\'http://www.w3.org/2001/XMLSchema#integer\\'>1868</literal></binding>\\r\\n<binding name=\\'p\\'><uri>http://jocondelab.iri-research.org/ns/jocondelab/YearInfoEnd</uri></binding>\\r\\n</result>\\r\\n<result>\\r\\n<binding name=\\'x\\'><bnode>_:b788</bnode></binding>\\r\\n<binding name=\\'y\\'><literal datatype=\\'http://www.w3.org/2001/XMLSchema#integer\\'>1686</literal></binding>\\r\\n<binding name=\\'p\\'><uri>http://jocondelab.iri-research.org/ns/jocondelab/YearInfoEnd</uri></binding>\\r\\n</result>\\r\\n<result>\\r\\n<binding name=\\'x\\'><bnode>_:b792</bnode></binding>\\r\\n<binding name=\\'y\\'><literal datatype=\\'http://www.w3.org/2001/XMLSchema#integer\\'>1652</literal></binding>\\r\\n<binding name=\\'p\\'><uri>http://jocondelab.iri-research.org/ns/jocondelab/YearInfoEnd</uri></binding>\\r\\n</result>\\r\\n<result>\\r\\n<binding name=\\'x\\'><bnode>_:b798</bnode></binding>\\r\\n<binding name=\\'y\\'><literal datatype=\\'http://www.w3.org/2001/XMLSchema#integer\\'>1999</literal></binding>\\r\\n<binding name=\\'p\\'><uri>http://jocondelab.iri-research.org/ns/jocondelab/YearInfoEnd</uri></binding>\\r\\n</result>\\r\\n</results>\\r\\n</sparql>\\r\\n'"
      ]
     },
     "execution_count": 31,
     "metadata": {},
     "output_type": "execute_result"
    }
   ],
   "source": [
    "import urllib\n",
    "url = 'http://localhost:8080/tutorial/myserver?query=select * where {?x ?p ?y}limit 10'\n",
    "request = urllib.request.Request(url.replace(' ', '%20'))\n",
    "#request.add_header(\"Accept\", \"application/sparql-results+json\")\n",
    "response = urllib.request.urlopen(request)\n",
    "response.read()"
   ]
  },
  {
   "cell_type": "code",
   "execution_count": 32,
   "metadata": {},
   "outputs": [
    {
     "data": {
      "text/plain": [
       "{}"
      ]
     },
     "execution_count": 32,
     "metadata": {},
     "output_type": "execute_result"
    }
   ],
   "source": [
    "request.headers"
   ]
  },
  {
   "cell_type": "markdown",
   "metadata": {},
   "source": [
    "#### Give the short column names"
   ]
  }
 ],
 "metadata": {
  "kernelspec": {
   "display_name": "Python 3",
   "language": "python",
   "name": "python3"
  },
  "language_info": {
   "codemirror_mode": {
    "name": "ipython",
    "version": 3
   },
   "file_extension": ".py",
   "mimetype": "text/x-python",
   "name": "python",
   "nbconvert_exporter": "python",
   "pygments_lexer": "ipython3",
   "version": "3.6.5"
  }
 },
 "nbformat": 4,
 "nbformat_minor": 2
}
