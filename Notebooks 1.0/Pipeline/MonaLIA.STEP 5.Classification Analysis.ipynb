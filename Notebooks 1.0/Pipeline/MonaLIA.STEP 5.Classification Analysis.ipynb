{
 "cells": [
  {
   "cell_type": "markdown",
   "metadata": {},
   "source": [
    "# MonaLIA Classification Analysis\n",
    "\n",
    "https://towardsdatascience.com/building-a-logistic-regression-in-python-step-by-step-becd4d56c9c8\n"
   ]
  },
  {
   "cell_type": "code",
   "execution_count": 1,
   "metadata": {},
   "outputs": [],
   "source": [
    "from __future__ import print_function\n",
    "import torch\n",
    "\n",
    "import os\n",
    "import sys\n",
    "\n",
    "import numpy as np\n",
    "import pandas as pd\n",
    "\n",
    "\n",
    "from sklearn import metrics\n",
    "from sklearn.feature_selection import RFE\n",
    "from sklearn import tree \n",
    "from sklearn.linear_model import LogisticRegression\n",
    "import statsmodels.api as sm\n",
    "\n",
    "\n",
    "import matplotlib.pyplot as plt\n",
    "import seaborn as sns\n",
    "\n",
    "import pydotplus\n",
    "from IPython.display import Image"
   ]
  },
  {
   "cell_type": "markdown",
   "metadata": {},
   "source": [
    "## Read the classification results from the IPython store of the previous script"
   ]
  },
  {
   "cell_type": "code",
   "execution_count": 2,
   "metadata": {
    "scrolled": true
   },
   "outputs": [
    {
     "name": "stdout",
     "output_type": "stream",
     "text": [
      "(262, 29)\n",
      "<class 'pandas.core.frame.DataFrame'>\n",
      "Int64Index: 262 entries, 0 to 261\n",
      "Data columns (total 29 columns):\n",
      "target                      262 non-null object\n",
      "prediction                  262 non-null object\n",
      "class2                      262 non-null object\n",
      "class3                      262 non-null object\n",
      "class4                      262 non-null object\n",
      "target_prob                 262 non-null float64\n",
      "pred_prob                   262 non-null float64\n",
      "prob2                       262 non-null float64\n",
      "prob3                       262 non-null float64\n",
      "prob4                       262 non-null float64\n",
      "imageFile                   262 non-null object\n",
      "ref                         262 non-null object\n",
      "width                       262 non-null int64\n",
      "height                      262 non-null int64\n",
      "noticeRef                   262 non-null object\n",
      "noticeDomain                262 non-null object\n",
      "noticeRepresentedSubject    262 non-null object\n",
      "noticeTechnique             245 non-null object\n",
      "noticeDeno                  197 non-null object\n",
      "noticeArtForm               253 non-null object\n",
      "noticeFunction              9 non-null object\n",
      "noticeDiscipline            99 non-null object\n",
      "noticeRepresentationType    203 non-null object\n",
      "noticePhotocredit           260 non-null object\n",
      "noticeMuseum                214 non-null object\n",
      "noticeTechnique1            245 non-null object\n",
      "noticeTechnique2            245 non-null object\n",
      "noticeTechnique3            245 non-null object\n",
      "noticeDenomination          197 non-null object\n",
      "dtypes: float64(5), int64(2), object(22)\n",
      "memory usage: 61.4+ KB\n"
     ]
    }
   ],
   "source": [
    "%store -r classified_df\n",
    "print(classified_df.shape)\n",
    "classified_df.info()"
   ]
  },
  {
   "cell_type": "markdown",
   "metadata": {},
   "source": [
    "#### Alternatively Read saved results from the flat file"
   ]
  },
  {
   "cell_type": "code",
   "execution_count": 3,
   "metadata": {},
   "outputs": [
    {
     "name": "stdout",
     "output_type": "stream",
     "text": [
      "(262, 30)\n"
     ]
    },
    {
     "data": {
      "text/html": [
       "<div>\n",
       "<style scoped>\n",
       "    .dataframe tbody tr th:only-of-type {\n",
       "        vertical-align: middle;\n",
       "    }\n",
       "\n",
       "    .dataframe tbody tr th {\n",
       "        vertical-align: top;\n",
       "    }\n",
       "\n",
       "    .dataframe thead th {\n",
       "        text-align: right;\n",
       "    }\n",
       "</style>\n",
       "<table border=\"1\" class=\"dataframe\">\n",
       "  <thead>\n",
       "    <tr style=\"text-align: right;\">\n",
       "      <th></th>\n",
       "      <th>Unnamed: 0</th>\n",
       "      <th>target</th>\n",
       "      <th>prediction</th>\n",
       "      <th>class2</th>\n",
       "      <th>class3</th>\n",
       "      <th>class4</th>\n",
       "      <th>target_prob</th>\n",
       "      <th>pred_prob</th>\n",
       "      <th>prob2</th>\n",
       "      <th>prob3</th>\n",
       "      <th>...</th>\n",
       "      <th>noticeArtForm</th>\n",
       "      <th>noticeFunction</th>\n",
       "      <th>noticeDiscipline</th>\n",
       "      <th>noticeRepresentationType</th>\n",
       "      <th>noticePhotocredit</th>\n",
       "      <th>noticeMuseum</th>\n",
       "      <th>noticeTechnique1</th>\n",
       "      <th>noticeTechnique2</th>\n",
       "      <th>noticeTechnique3</th>\n",
       "      <th>noticeDenomination</th>\n",
       "    </tr>\n",
       "  </thead>\n",
       "  <tbody>\n",
       "    <tr>\n",
       "      <th>0</th>\n",
       "      <td>0</td>\n",
       "      <td>genre iconographique</td>\n",
       "      <td>représentation scientifique</td>\n",
       "      <td>genre iconographique</td>\n",
       "      <td>ornementation</td>\n",
       "      <td>représentation non figurative</td>\n",
       "      <td>0.3422</td>\n",
       "      <td>0.4787</td>\n",
       "      <td>0.3422</td>\n",
       "      <td>0.0973</td>\n",
       "      <td>...</td>\n",
       "      <td>dessin</td>\n",
       "      <td>NaN</td>\n",
       "      <td>NaN</td>\n",
       "      <td>NaN</td>\n",
       "      <td>© Jean de Calan</td>\n",
       "      <td>M5044</td>\n",
       "      <td>mine de plomb</td>\n",
       "      <td>papier (beige)</td>\n",
       "      <td>NaN</td>\n",
       "      <td>élément d'ensemble</td>\n",
       "    </tr>\n",
       "    <tr>\n",
       "      <th>1</th>\n",
       "      <td>1</td>\n",
       "      <td>genre iconographique</td>\n",
       "      <td>genre iconographique</td>\n",
       "      <td>représentation scientifique</td>\n",
       "      <td>ornementation</td>\n",
       "      <td>représentation non figurative</td>\n",
       "      <td>0.5461</td>\n",
       "      <td>0.5461</td>\n",
       "      <td>0.2048</td>\n",
       "      <td>0.1677</td>\n",
       "      <td>...</td>\n",
       "      <td>dessin</td>\n",
       "      <td>NaN</td>\n",
       "      <td>NaN</td>\n",
       "      <td>NaN</td>\n",
       "      <td>© Claudine Pigot - utilisation soumise à autor...</td>\n",
       "      <td>M1096</td>\n",
       "      <td>crayon feutre</td>\n",
       "      <td>papier</td>\n",
       "      <td>NaN</td>\n",
       "      <td>NaN</td>\n",
       "    </tr>\n",
       "    <tr>\n",
       "      <th>2</th>\n",
       "      <td>2</td>\n",
       "      <td>genre iconographique</td>\n",
       "      <td>genre iconographique</td>\n",
       "      <td>ornementation</td>\n",
       "      <td>représentation non figurative</td>\n",
       "      <td>représentation scientifique</td>\n",
       "      <td>0.9574</td>\n",
       "      <td>0.9574</td>\n",
       "      <td>0.0370</td>\n",
       "      <td>0.0045</td>\n",
       "      <td>...</td>\n",
       "      <td>dessin</td>\n",
       "      <td>NaN</td>\n",
       "      <td>NaN</td>\n",
       "      <td>NaN</td>\n",
       "      <td>© Claudine Pigot - utilisation soumise à autor...</td>\n",
       "      <td>M1096</td>\n",
       "      <td>gouache</td>\n",
       "      <td>papier</td>\n",
       "      <td>couleur</td>\n",
       "      <td>NaN</td>\n",
       "    </tr>\n",
       "    <tr>\n",
       "      <th>3</th>\n",
       "      <td>3</td>\n",
       "      <td>genre iconographique</td>\n",
       "      <td>genre iconographique</td>\n",
       "      <td>ornementation</td>\n",
       "      <td>représentation scientifique</td>\n",
       "      <td>représentation non figurative</td>\n",
       "      <td>0.5919</td>\n",
       "      <td>0.5919</td>\n",
       "      <td>0.2624</td>\n",
       "      <td>0.0981</td>\n",
       "      <td>...</td>\n",
       "      <td>dessin</td>\n",
       "      <td>NaN</td>\n",
       "      <td>NaN</td>\n",
       "      <td>NaN</td>\n",
       "      <td>© Claudine Pigot - utilisation soumise à autor...</td>\n",
       "      <td>M1096</td>\n",
       "      <td>crayon gras</td>\n",
       "      <td>papier</td>\n",
       "      <td>NaN</td>\n",
       "      <td>NaN</td>\n",
       "    </tr>\n",
       "    <tr>\n",
       "      <th>4</th>\n",
       "      <td>4</td>\n",
       "      <td>genre iconographique</td>\n",
       "      <td>genre iconographique</td>\n",
       "      <td>représentation scientifique</td>\n",
       "      <td>ornementation</td>\n",
       "      <td>représentation non figurative</td>\n",
       "      <td>0.9955</td>\n",
       "      <td>0.9955</td>\n",
       "      <td>0.0036</td>\n",
       "      <td>0.0006</td>\n",
       "      <td>...</td>\n",
       "      <td>photographie</td>\n",
       "      <td>NaN</td>\n",
       "      <td>NaN</td>\n",
       "      <td>NaN</td>\n",
       "      <td>© musée Condé</td>\n",
       "      <td>M5052</td>\n",
       "      <td>NaN</td>\n",
       "      <td>NaN</td>\n",
       "      <td>NaN</td>\n",
       "      <td>tirage photographique</td>\n",
       "    </tr>\n",
       "  </tbody>\n",
       "</table>\n",
       "<p>5 rows × 30 columns</p>\n",
       "</div>"
      ],
      "text/plain": [
       "   Unnamed: 0                target                   prediction  \\\n",
       "0           0  genre iconographique  représentation scientifique   \n",
       "1           1  genre iconographique         genre iconographique   \n",
       "2           2  genre iconographique         genre iconographique   \n",
       "3           3  genre iconographique         genre iconographique   \n",
       "4           4  genre iconographique         genre iconographique   \n",
       "\n",
       "                        class2                         class3  \\\n",
       "0         genre iconographique                  ornementation   \n",
       "1  représentation scientifique                  ornementation   \n",
       "2                ornementation  représentation non figurative   \n",
       "3                ornementation    représentation scientifique   \n",
       "4  représentation scientifique                  ornementation   \n",
       "\n",
       "                          class4  target_prob  pred_prob   prob2   prob3  \\\n",
       "0  représentation non figurative       0.3422     0.4787  0.3422  0.0973   \n",
       "1  représentation non figurative       0.5461     0.5461  0.2048  0.1677   \n",
       "2    représentation scientifique       0.9574     0.9574  0.0370  0.0045   \n",
       "3  représentation non figurative       0.5919     0.5919  0.2624  0.0981   \n",
       "4  représentation non figurative       0.9955     0.9955  0.0036  0.0006   \n",
       "\n",
       "           ...            noticeArtForm noticeFunction noticeDiscipline  \\\n",
       "0          ...                   dessin            NaN              NaN   \n",
       "1          ...                   dessin            NaN              NaN   \n",
       "2          ...                   dessin            NaN              NaN   \n",
       "3          ...                   dessin            NaN              NaN   \n",
       "4          ...             photographie            NaN              NaN   \n",
       "\n",
       "   noticeRepresentationType  \\\n",
       "0                       NaN   \n",
       "1                       NaN   \n",
       "2                       NaN   \n",
       "3                       NaN   \n",
       "4                       NaN   \n",
       "\n",
       "                                   noticePhotocredit noticeMuseum  \\\n",
       "0                                    © Jean de Calan        M5044   \n",
       "1  © Claudine Pigot - utilisation soumise à autor...        M1096   \n",
       "2  © Claudine Pigot - utilisation soumise à autor...        M1096   \n",
       "3  © Claudine Pigot - utilisation soumise à autor...        M1096   \n",
       "4                                      © musée Condé        M5052   \n",
       "\n",
       "  noticeTechnique1 noticeTechnique2 noticeTechnique3     noticeDenomination  \n",
       "0    mine de plomb   papier (beige)              NaN     élément d'ensemble  \n",
       "1    crayon feutre           papier              NaN                    NaN  \n",
       "2          gouache           papier          couleur                    NaN  \n",
       "3      crayon gras           papier              NaN                    NaN  \n",
       "4              NaN              NaN              NaN  tirage photographique  \n",
       "\n",
       "[5 rows x 30 columns]"
      ]
     },
     "execution_count": 3,
     "metadata": {},
     "output_type": "execute_result"
    }
   ],
   "source": [
    "classified_df = pd.read_csv('themes_262.tsv', sep='\\t')\n",
    "print(classified_df.shape)\n",
    "classified_df.head()"
   ]
  },
  {
   "cell_type": "markdown",
   "metadata": {},
   "source": [
    "## Output confusion matrix and statistics\n",
    "This code can be substituted with three lines of code but the output would be more cryptic\n",
    "\n",
    "confusion_matrix....\n",
    "classification_report...\n",
    "accuracy_score...."
   ]
  },
  {
   "cell_type": "code",
   "execution_count": 4,
   "metadata": {},
   "outputs": [
    {
     "data": {
      "text/html": [
       "<div>\n",
       "<style scoped>\n",
       "    .dataframe tbody tr th:only-of-type {\n",
       "        vertical-align: middle;\n",
       "    }\n",
       "\n",
       "    .dataframe tbody tr th {\n",
       "        vertical-align: top;\n",
       "    }\n",
       "\n",
       "    .dataframe thead th {\n",
       "        text-align: right;\n",
       "    }\n",
       "</style>\n",
       "<table border=\"1\" class=\"dataframe\">\n",
       "  <thead>\n",
       "    <tr style=\"text-align: right;\">\n",
       "      <th>target</th>\n",
       "      <th>genre iconographique</th>\n",
       "      <th>ornementation</th>\n",
       "      <th>représentation non figurative</th>\n",
       "      <th>représentation scientifique</th>\n",
       "      <th>All</th>\n",
       "    </tr>\n",
       "    <tr>\n",
       "      <th>prediction</th>\n",
       "      <th></th>\n",
       "      <th></th>\n",
       "      <th></th>\n",
       "      <th></th>\n",
       "      <th></th>\n",
       "    </tr>\n",
       "  </thead>\n",
       "  <tbody>\n",
       "    <tr>\n",
       "      <th>genre iconographique</th>\n",
       "      <td>47</td>\n",
       "      <td>2</td>\n",
       "      <td>2</td>\n",
       "      <td>4</td>\n",
       "      <td>55</td>\n",
       "    </tr>\n",
       "    <tr>\n",
       "      <th>ornementation</th>\n",
       "      <td>4</td>\n",
       "      <td>49</td>\n",
       "      <td>3</td>\n",
       "      <td>3</td>\n",
       "      <td>59</td>\n",
       "    </tr>\n",
       "    <tr>\n",
       "      <th>représentation non figurative</th>\n",
       "      <td>2</td>\n",
       "      <td>6</td>\n",
       "      <td>50</td>\n",
       "      <td>1</td>\n",
       "      <td>59</td>\n",
       "    </tr>\n",
       "    <tr>\n",
       "      <th>représentation scientifique</th>\n",
       "      <td>6</td>\n",
       "      <td>1</td>\n",
       "      <td>3</td>\n",
       "      <td>79</td>\n",
       "      <td>89</td>\n",
       "    </tr>\n",
       "    <tr>\n",
       "      <th>All</th>\n",
       "      <td>59</td>\n",
       "      <td>58</td>\n",
       "      <td>58</td>\n",
       "      <td>87</td>\n",
       "      <td>262</td>\n",
       "    </tr>\n",
       "  </tbody>\n",
       "</table>\n",
       "</div>"
      ],
      "text/plain": [
       "target                         genre iconographique  ornementation  \\\n",
       "prediction                                                           \n",
       "genre iconographique                             47              2   \n",
       "ornementation                                     4             49   \n",
       "représentation non figurative                     2              6   \n",
       "représentation scientifique                       6              1   \n",
       "All                                              59             58   \n",
       "\n",
       "target                         représentation non figurative  \\\n",
       "prediction                                                     \n",
       "genre iconographique                                       2   \n",
       "ornementation                                              3   \n",
       "représentation non figurative                             50   \n",
       "représentation scientifique                                3   \n",
       "All                                                       58   \n",
       "\n",
       "target                         représentation scientifique  All  \n",
       "prediction                                                       \n",
       "genre iconographique                                     4   55  \n",
       "ornementation                                            3   59  \n",
       "représentation non figurative                            1   59  \n",
       "représentation scientifique                             79   89  \n",
       "All                                                     87  262  "
      ]
     },
     "execution_count": 4,
     "metadata": {},
     "output_type": "execute_result"
    }
   ],
   "source": [
    "conf_matrix = pd.crosstab(index=classified_df.prediction, columns=classified_df.target, margins= True)\n",
    "conf_matrix"
   ]
  },
  {
   "cell_type": "code",
   "execution_count": 5,
   "metadata": {},
   "outputs": [
    {
     "data": {
      "text/html": [
       "<div>\n",
       "<style scoped>\n",
       "    .dataframe tbody tr th:only-of-type {\n",
       "        vertical-align: middle;\n",
       "    }\n",
       "\n",
       "    .dataframe tbody tr th {\n",
       "        vertical-align: top;\n",
       "    }\n",
       "\n",
       "    .dataframe thead th {\n",
       "        text-align: right;\n",
       "    }\n",
       "</style>\n",
       "<table border=\"1\" class=\"dataframe\">\n",
       "  <thead>\n",
       "    <tr style=\"text-align: right;\">\n",
       "      <th>target</th>\n",
       "      <th>genre iconographique</th>\n",
       "      <th>ornementation</th>\n",
       "      <th>représentation non figurative</th>\n",
       "      <th>représentation scientifique</th>\n",
       "    </tr>\n",
       "  </thead>\n",
       "  <tbody>\n",
       "    <tr>\n",
       "      <th>genre iconographique</th>\n",
       "      <td>79.66</td>\n",
       "      <td>3.39</td>\n",
       "      <td>3.39</td>\n",
       "      <td>6.78</td>\n",
       "    </tr>\n",
       "    <tr>\n",
       "      <th>ornementation</th>\n",
       "      <td>6.90</td>\n",
       "      <td>84.48</td>\n",
       "      <td>5.17</td>\n",
       "      <td>5.17</td>\n",
       "    </tr>\n",
       "    <tr>\n",
       "      <th>représentation non figurative</th>\n",
       "      <td>3.45</td>\n",
       "      <td>10.34</td>\n",
       "      <td>86.21</td>\n",
       "      <td>1.72</td>\n",
       "    </tr>\n",
       "    <tr>\n",
       "      <th>représentation scientifique</th>\n",
       "      <td>6.90</td>\n",
       "      <td>1.15</td>\n",
       "      <td>3.45</td>\n",
       "      <td>90.80</td>\n",
       "    </tr>\n",
       "  </tbody>\n",
       "</table>\n",
       "</div>"
      ],
      "text/plain": [
       "target                         genre iconographique  ornementation  \\\n",
       "genre iconographique                          79.66           3.39   \n",
       "ornementation                                  6.90          84.48   \n",
       "représentation non figurative                  3.45          10.34   \n",
       "représentation scientifique                    6.90           1.15   \n",
       "\n",
       "target                         représentation non figurative  \\\n",
       "genre iconographique                                    3.39   \n",
       "ornementation                                           5.17   \n",
       "représentation non figurative                          86.21   \n",
       "représentation scientifique                             3.45   \n",
       "\n",
       "target                         représentation scientifique  \n",
       "genre iconographique                                  6.78  \n",
       "ornementation                                         5.17  \n",
       "représentation non figurative                         1.72  \n",
       "représentation scientifique                          90.80  "
      ]
     },
     "execution_count": 5,
     "metadata": {},
     "output_type": "execute_result"
    }
   ],
   "source": [
    "conf_matrix_pct_target = pd.crosstab(index=classified_df.prediction, columns=classified_df.target)\\\n",
    "                        .div(conf_matrix.loc['All',:], axis=0) \\\n",
    "                        .dropna()\\\n",
    "                        .mul(100)\\\n",
    "                        .round(2)\n",
    "conf_matrix_pct_target"
   ]
  },
  {
   "cell_type": "code",
   "execution_count": 6,
   "metadata": {},
   "outputs": [
    {
     "data": {
      "text/plain": [
       "<matplotlib.axes._subplots.AxesSubplot at 0x23663ecc160>"
      ]
     },
     "execution_count": 6,
     "metadata": {},
     "output_type": "execute_result"
    },
    {
     "data": {
      "image/png": "[encoded data removed]",
      "text/plain": [
       "<Figure size 720x504 with 2 Axes>"
      ]
     },
     "metadata": {},
     "output_type": "display_data"
    }
   ],
   "source": [
    "plt.figure(figsize = (10,7))\n",
    "\n",
    "sns.heatmap(conf_matrix_pct_target, annot=True, cmap=\"YlGnBu\")"
   ]
  },
  {
   "cell_type": "code",
   "execution_count": 7,
   "metadata": {},
   "outputs": [
    {
     "data": {
      "text/plain": [
       "<seaborn.matrix.ClusterGrid at 0x23663ffc518>"
      ]
     },
     "execution_count": 7,
     "metadata": {},
     "output_type": "execute_result"
    },
    {
     "data": {
      "text/plain": [
       "<Figure size 720x504 with 0 Axes>"
      ]
     },
     "metadata": {},
     "output_type": "display_data"
    },
    {
     "data": {
      "image/png": "[encoded data removed]",
      "text/plain": [
       "<Figure size 720x720 with 4 Axes>"
      ]
     },
     "metadata": {},
     "output_type": "display_data"
    }
   ],
   "source": [
    "plt.figure(figsize = (10,7))\n",
    "\n",
    "sns.clustermap(conf_matrix_pct_target, annot=True, cmap=\"YlGnBu\", metric=\"correlation\")"
   ]
  },
  {
   "cell_type": "code",
   "execution_count": 8,
   "metadata": {},
   "outputs": [
    {
     "data": {
      "text/html": [
       "<div>\n",
       "<style scoped>\n",
       "    .dataframe tbody tr th:only-of-type {\n",
       "        vertical-align: middle;\n",
       "    }\n",
       "\n",
       "    .dataframe tbody tr th {\n",
       "        vertical-align: top;\n",
       "    }\n",
       "\n",
       "    .dataframe thead th {\n",
       "        text-align: right;\n",
       "    }\n",
       "</style>\n",
       "<table border=\"1\" class=\"dataframe\">\n",
       "  <thead>\n",
       "    <tr style=\"text-align: right;\">\n",
       "      <th></th>\n",
       "      <th>class</th>\n",
       "      <th>support</th>\n",
       "      <th>recall</th>\n",
       "      <th>precision</th>\n",
       "      <th>f1 score</th>\n",
       "      <th>accuracy</th>\n",
       "    </tr>\n",
       "  </thead>\n",
       "  <tbody>\n",
       "    <tr>\n",
       "      <th>0</th>\n",
       "      <td>genre iconographique</td>\n",
       "      <td>59</td>\n",
       "      <td>0.797</td>\n",
       "      <td>0.855</td>\n",
       "      <td>0.825</td>\n",
       "      <td>0.859</td>\n",
       "    </tr>\n",
       "    <tr>\n",
       "      <th>1</th>\n",
       "      <td>ornementation</td>\n",
       "      <td>58</td>\n",
       "      <td>0.845</td>\n",
       "      <td>0.831</td>\n",
       "      <td>0.838</td>\n",
       "      <td>NaN</td>\n",
       "    </tr>\n",
       "    <tr>\n",
       "      <th>2</th>\n",
       "      <td>représentation non figurative</td>\n",
       "      <td>58</td>\n",
       "      <td>0.862</td>\n",
       "      <td>0.847</td>\n",
       "      <td>0.855</td>\n",
       "      <td>NaN</td>\n",
       "    </tr>\n",
       "    <tr>\n",
       "      <th>3</th>\n",
       "      <td>représentation scientifique</td>\n",
       "      <td>87</td>\n",
       "      <td>0.908</td>\n",
       "      <td>0.888</td>\n",
       "      <td>0.898</td>\n",
       "      <td>NaN</td>\n",
       "    </tr>\n",
       "  </tbody>\n",
       "</table>\n",
       "</div>"
      ],
      "text/plain": [
       "                           class  support  recall  precision  f1 score  \\\n",
       "0           genre iconographique       59   0.797      0.855     0.825   \n",
       "1                  ornementation       58   0.845      0.831     0.838   \n",
       "2  représentation non figurative       58   0.862      0.847     0.855   \n",
       "3    représentation scientifique       87   0.908      0.888     0.898   \n",
       "\n",
       "   accuracy  \n",
       "0     0.859  \n",
       "1       NaN  \n",
       "2       NaN  \n",
       "3       NaN  "
      ]
     },
     "execution_count": 8,
     "metadata": {},
     "output_type": "execute_result"
    }
   ],
   "source": [
    "prfs = metrics.precision_recall_fscore_support(y_true= classified_df.target,\n",
    "                 y_pred= classified_df.prediction)\n",
    "\n",
    "acc = metrics.accuracy_score(y_true= classified_df.target,\n",
    "                 y_pred= classified_df.prediction)\n",
    "\n",
    "output = pd.concat((pd.Series(conf_matrix.index[:-1]) ,\n",
    "           pd.Series(prfs[3].round(3)),         \n",
    "           pd.Series(prfs[1].round(3)),\n",
    "           pd.Series(prfs[0].round(3)),\n",
    "           pd.Series(prfs[2].round(3)),\n",
    "           pd.Series(acc.round(3))),\n",
    "           \n",
    "           axis=1 )\n",
    "output.columns = ['class', 'support', 'recall', 'precision', 'f1 score', 'accuracy']\n",
    "output"
   ]
  },
  {
   "cell_type": "code",
   "execution_count": 9,
   "metadata": {},
   "outputs": [
    {
     "data": {
      "text/plain": [
       "1    225\n",
       "0     37\n",
       "Name: outcome, dtype: int64"
      ]
     },
     "execution_count": 9,
     "metadata": {},
     "output_type": "execute_result"
    }
   ],
   "source": [
    "classified_df['outcome'] = (classified_df.target == classified_df.prediction).astype(int)\n",
    "classified_df.outcome.value_counts()"
   ]
  },
  {
   "cell_type": "markdown",
   "metadata": {},
   "source": [
    "## Missclassifications"
   ]
  },
  {
   "cell_type": "code",
   "execution_count": 10,
   "metadata": {
    "scrolled": true
   },
   "outputs": [
    {
     "data": {
      "text/html": [
       "<div>\n",
       "<style scoped>\n",
       "    .dataframe tbody tr th:only-of-type {\n",
       "        vertical-align: middle;\n",
       "    }\n",
       "\n",
       "    .dataframe tbody tr th {\n",
       "        vertical-align: top;\n",
       "    }\n",
       "\n",
       "    .dataframe thead th {\n",
       "        text-align: right;\n",
       "    }\n",
       "</style>\n",
       "<table border=\"1\" class=\"dataframe\">\n",
       "  <thead>\n",
       "    <tr style=\"text-align: right;\">\n",
       "      <th></th>\n",
       "      <th>Unnamed: 0</th>\n",
       "      <th>target</th>\n",
       "      <th>prediction</th>\n",
       "      <th>class2</th>\n",
       "      <th>class3</th>\n",
       "      <th>class4</th>\n",
       "      <th>target_prob</th>\n",
       "      <th>pred_prob</th>\n",
       "      <th>prob2</th>\n",
       "      <th>prob3</th>\n",
       "      <th>...</th>\n",
       "      <th>noticeFunction</th>\n",
       "      <th>noticeDiscipline</th>\n",
       "      <th>noticeRepresentationType</th>\n",
       "      <th>noticePhotocredit</th>\n",
       "      <th>noticeMuseum</th>\n",
       "      <th>noticeTechnique1</th>\n",
       "      <th>noticeTechnique2</th>\n",
       "      <th>noticeTechnique3</th>\n",
       "      <th>noticeDenomination</th>\n",
       "      <th>outcome</th>\n",
       "    </tr>\n",
       "  </thead>\n",
       "  <tbody>\n",
       "    <tr>\n",
       "      <th>0</th>\n",
       "      <td>0</td>\n",
       "      <td>genre iconographique</td>\n",
       "      <td>représentation scientifique</td>\n",
       "      <td>genre iconographique</td>\n",
       "      <td>ornementation</td>\n",
       "      <td>représentation non figurative</td>\n",
       "      <td>0.3422</td>\n",
       "      <td>0.4787</td>\n",
       "      <td>0.3422</td>\n",
       "      <td>0.0973</td>\n",
       "      <td>...</td>\n",
       "      <td>NaN</td>\n",
       "      <td>NaN</td>\n",
       "      <td>NaN</td>\n",
       "      <td>© Jean de Calan</td>\n",
       "      <td>M5044</td>\n",
       "      <td>mine de plomb</td>\n",
       "      <td>papier (beige)</td>\n",
       "      <td>NaN</td>\n",
       "      <td>élément d'ensemble</td>\n",
       "      <td>0</td>\n",
       "    </tr>\n",
       "    <tr>\n",
       "      <th>16</th>\n",
       "      <td>16</td>\n",
       "      <td>genre iconographique</td>\n",
       "      <td>représentation non figurative</td>\n",
       "      <td>ornementation</td>\n",
       "      <td>genre iconographique</td>\n",
       "      <td>représentation scientifique</td>\n",
       "      <td>0.0551</td>\n",
       "      <td>0.7581</td>\n",
       "      <td>0.1627</td>\n",
       "      <td>0.0551</td>\n",
       "      <td>...</td>\n",
       "      <td>NaN</td>\n",
       "      <td>ethnologie</td>\n",
       "      <td>NaN</td>\n",
       "      <td>© Société Tribvn 2009-2010 - utilisation soumi...</td>\n",
       "      <td>M0064</td>\n",
       "      <td>gélatino-bromure d'argent</td>\n",
       "      <td>verre</td>\n",
       "      <td>négatif</td>\n",
       "      <td>plaque de verre photographique</td>\n",
       "      <td>0</td>\n",
       "    </tr>\n",
       "    <tr>\n",
       "      <th>17</th>\n",
       "      <td>17</td>\n",
       "      <td>genre iconographique</td>\n",
       "      <td>ornementation</td>\n",
       "      <td>représentation non figurative</td>\n",
       "      <td>genre iconographique</td>\n",
       "      <td>représentation scientifique</td>\n",
       "      <td>0.1510</td>\n",
       "      <td>0.4073</td>\n",
       "      <td>0.3416</td>\n",
       "      <td>0.1510</td>\n",
       "      <td>...</td>\n",
       "      <td>NaN</td>\n",
       "      <td>NaN</td>\n",
       "      <td>NaN</td>\n",
       "      <td>© POUMEYROL</td>\n",
       "      <td>M0098</td>\n",
       "      <td>peinture à l'huile</td>\n",
       "      <td>toile</td>\n",
       "      <td>NaN</td>\n",
       "      <td>tableau</td>\n",
       "      <td>0</td>\n",
       "    </tr>\n",
       "    <tr>\n",
       "      <th>32</th>\n",
       "      <td>32</td>\n",
       "      <td>genre iconographique</td>\n",
       "      <td>ornementation</td>\n",
       "      <td>représentation non figurative</td>\n",
       "      <td>représentation scientifique</td>\n",
       "      <td>genre iconographique</td>\n",
       "      <td>0.0357</td>\n",
       "      <td>0.6021</td>\n",
       "      <td>0.2576</td>\n",
       "      <td>0.1044</td>\n",
       "      <td>...</td>\n",
       "      <td>NaN</td>\n",
       "      <td>archéologie</td>\n",
       "      <td>NaN</td>\n",
       "      <td>© DE SOUSA David, musée Alfred Danicourt</td>\n",
       "      <td>M0815</td>\n",
       "      <td>cuivre</td>\n",
       "      <td>frappé</td>\n",
       "      <td>NaN</td>\n",
       "      <td>monnaie</td>\n",
       "      <td>0</td>\n",
       "    </tr>\n",
       "    <tr>\n",
       "      <th>33</th>\n",
       "      <td>33</td>\n",
       "      <td>genre iconographique</td>\n",
       "      <td>ornementation</td>\n",
       "      <td>représentation non figurative</td>\n",
       "      <td>représentation scientifique</td>\n",
       "      <td>genre iconographique</td>\n",
       "      <td>0.0357</td>\n",
       "      <td>0.6021</td>\n",
       "      <td>0.2576</td>\n",
       "      <td>0.1044</td>\n",
       "      <td>...</td>\n",
       "      <td>NaN</td>\n",
       "      <td>numismatique</td>\n",
       "      <td>NaN</td>\n",
       "      <td>© DE SOUSA David, musée Alfred Danicourt</td>\n",
       "      <td>M0815</td>\n",
       "      <td>cuivre</td>\n",
       "      <td>frappé</td>\n",
       "      <td>NaN</td>\n",
       "      <td>monnaie</td>\n",
       "      <td>0</td>\n",
       "    </tr>\n",
       "  </tbody>\n",
       "</table>\n",
       "<p>5 rows × 31 columns</p>\n",
       "</div>"
      ],
      "text/plain": [
       "    Unnamed: 0                target                     prediction  \\\n",
       "0            0  genre iconographique    représentation scientifique   \n",
       "16          16  genre iconographique  représentation non figurative   \n",
       "17          17  genre iconographique                  ornementation   \n",
       "32          32  genre iconographique                  ornementation   \n",
       "33          33  genre iconographique                  ornementation   \n",
       "\n",
       "                           class2                       class3  \\\n",
       "0            genre iconographique                ornementation   \n",
       "16                  ornementation         genre iconographique   \n",
       "17  représentation non figurative         genre iconographique   \n",
       "32  représentation non figurative  représentation scientifique   \n",
       "33  représentation non figurative  représentation scientifique   \n",
       "\n",
       "                           class4  target_prob  pred_prob   prob2   prob3  \\\n",
       "0   représentation non figurative       0.3422     0.4787  0.3422  0.0973   \n",
       "16    représentation scientifique       0.0551     0.7581  0.1627  0.0551   \n",
       "17    représentation scientifique       0.1510     0.4073  0.3416  0.1510   \n",
       "32           genre iconographique       0.0357     0.6021  0.2576  0.1044   \n",
       "33           genre iconographique       0.0357     0.6021  0.2576  0.1044   \n",
       "\n",
       "     ...    noticeFunction noticeDiscipline noticeRepresentationType  \\\n",
       "0    ...               NaN              NaN                      NaN   \n",
       "16   ...               NaN       ethnologie                      NaN   \n",
       "17   ...               NaN              NaN                      NaN   \n",
       "32   ...               NaN      archéologie                      NaN   \n",
       "33   ...               NaN     numismatique                      NaN   \n",
       "\n",
       "                                    noticePhotocredit  noticeMuseum  \\\n",
       "0                                     © Jean de Calan         M5044   \n",
       "16  © Société Tribvn 2009-2010 - utilisation soumi...         M0064   \n",
       "17                                        © POUMEYROL         M0098   \n",
       "32           © DE SOUSA David, musée Alfred Danicourt         M0815   \n",
       "33           © DE SOUSA David, musée Alfred Danicourt         M0815   \n",
       "\n",
       "             noticeTechnique1 noticeTechnique2 noticeTechnique3  \\\n",
       "0               mine de plomb   papier (beige)              NaN   \n",
       "16  gélatino-bromure d'argent            verre          négatif   \n",
       "17         peinture à l'huile            toile              NaN   \n",
       "32                     cuivre           frappé              NaN   \n",
       "33                     cuivre           frappé              NaN   \n",
       "\n",
       "                noticeDenomination outcome  \n",
       "0               élément d'ensemble       0  \n",
       "16  plaque de verre photographique       0  \n",
       "17                         tableau       0  \n",
       "32                         monnaie       0  \n",
       "33                         monnaie       0  \n",
       "\n",
       "[5 rows x 31 columns]"
      ]
     },
     "execution_count": 10,
     "metadata": {},
     "output_type": "execute_result"
    }
   ],
   "source": [
    "miss_classified_df = classified_df.loc[classified_df.outcome == False]\n",
    "miss_classified_df.head()"
   ]
  },
  {
   "cell_type": "code",
   "execution_count": 11,
   "metadata": {},
   "outputs": [
    {
     "data": {
      "text/plain": [
       "<matplotlib.axes._subplots.AxesSubplot at 0x23664131390>"
      ]
     },
     "execution_count": 11,
     "metadata": {},
     "output_type": "execute_result"
    },
    {
     "data": {
      "image/png": "[encoded data removed]",
      "text/plain": [
       "<Figure size 432x288 with 1 Axes>"
      ]
     },
     "metadata": {},
     "output_type": "display_data"
    }
   ],
   "source": [
    "miss_classified_df.groupby(miss_classified_df.target).count() \\\n",
    "                                                     .sort_values(by='prediction') \\\n",
    "                                                     .plot \\\n",
    "                                                     .bar(y='prediction' , \n",
    "                                                          title='Number of miss-classified images per class')"
   ]
  },
  {
   "cell_type": "code",
   "execution_count": 12,
   "metadata": {
    "scrolled": true
   },
   "outputs": [
    {
     "data": {
      "text/plain": [
       "<matplotlib.axes._subplots.AxesSubplot at 0x236640dc048>"
      ]
     },
     "execution_count": 12,
     "metadata": {},
     "output_type": "execute_result"
    },
    {
     "data": {
      "image/png": "[encoded data removed]",
      "text/plain": [
       "<Figure size 432x288 with 1 Axes>"
      ]
     },
     "metadata": {},
     "output_type": "display_data"
    }
   ],
   "source": [
    "#fig = plt.gcf()\n",
    "#fig.set_size_inches(18.5, 5.5)\n",
    "\n",
    "(miss_classified_df.pred_prob-miss_classified_df.target_prob).plot \\\n",
    "                                                             .hist(title = 'Histogram of differences between predicted and target probabilities for miss-classified images')\n"
   ]
  },
  {
   "cell_type": "markdown",
   "metadata": {},
   "source": [
    "## Outcome vs. continous variables"
   ]
  },
  {
   "cell_type": "code",
   "execution_count": 13,
   "metadata": {},
   "outputs": [
    {
     "name": "stdout",
     "output_type": "stream",
     "text": [
      "<class 'pandas.core.frame.DataFrame'>\n",
      "RangeIndex: 262 entries, 0 to 261\n",
      "Data columns (total 31 columns):\n",
      "Unnamed: 0                  262 non-null int64\n",
      "target                      262 non-null object\n",
      "prediction                  262 non-null object\n",
      "class2                      262 non-null object\n",
      "class3                      262 non-null object\n",
      "class4                      262 non-null object\n",
      "target_prob                 262 non-null float64\n",
      "pred_prob                   262 non-null float64\n",
      "prob2                       262 non-null float64\n",
      "prob3                       262 non-null float64\n",
      "prob4                       262 non-null float64\n",
      "imageFile                   262 non-null object\n",
      "ref                         262 non-null object\n",
      "width                       262 non-null int64\n",
      "height                      262 non-null int64\n",
      "noticeRef                   262 non-null object\n",
      "noticeDomain                262 non-null object\n",
      "noticeRepresentedSubject    262 non-null object\n",
      "noticeTechnique             245 non-null object\n",
      "noticeDeno                  197 non-null object\n",
      "noticeArtForm               253 non-null object\n",
      "noticeFunction              9 non-null object\n",
      "noticeDiscipline            99 non-null object\n",
      "noticeRepresentationType    203 non-null object\n",
      "noticePhotocredit           260 non-null object\n",
      "noticeMuseum                214 non-null object\n",
      "noticeTechnique1            245 non-null object\n",
      "noticeTechnique2            192 non-null object\n",
      "noticeTechnique3            102 non-null object\n",
      "noticeDenomination          197 non-null object\n",
      "outcome                     262 non-null int32\n",
      "dtypes: float64(5), int32(1), int64(3), object(22)\n",
      "memory usage: 62.5+ KB\n"
     ]
    }
   ],
   "source": [
    "classified_df.info()"
   ]
  },
  {
   "cell_type": "code",
   "execution_count": 14,
   "metadata": {},
   "outputs": [
    {
     "data": {
      "text/plain": [
       "Text(0.5,0,'1/ar')"
      ]
     },
     "execution_count": 14,
     "metadata": {},
     "output_type": "execute_result"
    },
    {
     "data": {
      "image/png": "[encoded data removed]",
      "text/plain": [
       "<Figure size 1332x720 with 4 Axes>"
      ]
     },
     "metadata": {},
     "output_type": "display_data"
    }
   ],
   "source": [
    "fig, axes = plt.subplots(nrows=2, ncols=2)\n",
    "fig.set_size_inches(18.5, 10)\n",
    "\n",
    "\n",
    "classified_df.plot.scatter(y='outcome' , x='width',  ax=axes[0,0])\n",
    "classified_df.plot.scatter(y='outcome' , x='height', ax=axes[0,1])\n",
    "\n",
    "classified_df['ar'] = classified_df.width/classified_df.height\n",
    "classified_df.plot.scatter(y='outcome' , x='ar', ax=axes[1,0])\n",
    "\n",
    "classified_df['inv_ar'] = classified_df.height/classified_df.width\n",
    "ax = classified_df.plot.scatter(y='outcome' , x='inv_ar', ax=axes[1,1] )\n",
    "\n",
    "ax.set_xlabel(\"1/ar\")"
   ]
  },
  {
   "cell_type": "code",
   "execution_count": 15,
   "metadata": {},
   "outputs": [
    {
     "name": "stdout",
     "output_type": "stream",
     "text": [
      "Optimization terminated successfully.\n",
      "         Current function value: 0.442058\n",
      "         Iterations 6\n",
      "==============================================================================\n",
      "width / 100\n",
      "==============================================================================\n",
      "                           Logit Regression Results                           \n",
      "==============================================================================\n",
      "Dep. Variable:                      y   No. Observations:                  262\n",
      "Model:                          Logit   Df Residuals:                      261\n",
      "Method:                           MLE   Df Model:                            0\n",
      "Date:                Wed, 07 Nov 2018   Pseudo R-squ.:                -0.08567\n",
      "Time:                        15:16:34   Log-Likelihood:                -115.82\n",
      "converged:                       True   LL-Null:                       -106.68\n",
      "                                        LLR p-value:                       nan\n",
      "==============================================================================\n",
      "                 coef    std err          z      P>|z|      [0.025      0.975]\n",
      "------------------------------------------------------------------------------\n",
      "x1             0.3061      0.033      9.250      0.000       0.241       0.371\n",
      "==============================================================================\n",
      "exp(coef) = 1.3582\n",
      "==============================================================================\n",
      "Optimization terminated successfully.\n",
      "         Current function value: 0.401691\n",
      "         Iterations 6\n",
      "==============================================================================\n",
      "height / 100\n",
      "==============================================================================\n",
      "                           Logit Regression Results                           \n",
      "==============================================================================\n",
      "Dep. Variable:                      y   No. Observations:                  262\n",
      "Model:                          Logit   Df Residuals:                      261\n",
      "Method:                           MLE   Df Model:                            0\n",
      "Date:                Wed, 07 Nov 2018   Pseudo R-squ.:                 0.01347\n",
      "Time:                        15:16:34   Log-Likelihood:                -105.24\n",
      "converged:                       True   LL-Null:                       -106.68\n",
      "                                        LLR p-value:                       nan\n",
      "==============================================================================\n",
      "                 coef    std err          z      P>|z|      [0.025      0.975]\n",
      "------------------------------------------------------------------------------\n",
      "x1             0.3498      0.035     10.100      0.000       0.282       0.418\n",
      "==============================================================================\n",
      "exp(coef) = 1.4188\n",
      "==============================================================================\n",
      "Optimization terminated successfully.\n",
      "         Current function value: 0.446571\n",
      "         Iterations 6\n",
      "==============================================================================\n",
      "ar * 10\n",
      "==============================================================================\n",
      "                           Logit Regression Results                           \n",
      "==============================================================================\n",
      "Dep. Variable:                      y   No. Observations:                  262\n",
      "Model:                          Logit   Df Residuals:                      261\n",
      "Method:                           MLE   Df Model:                            0\n",
      "Date:                Wed, 07 Nov 2018   Pseudo R-squ.:                -0.09675\n",
      "Time:                        15:16:34   Log-Likelihood:                -117.00\n",
      "converged:                       True   LL-Null:                       -106.68\n",
      "                                        LLR p-value:                       nan\n",
      "==============================================================================\n",
      "                 coef    std err          z      P>|z|      [0.025      0.975]\n",
      "------------------------------------------------------------------------------\n",
      "x1             0.1493      0.016      9.277      0.000       0.118       0.181\n",
      "==============================================================================\n",
      "exp(coef) = 1.1610\n",
      "==============================================================================\n",
      "Optimization terminated successfully.\n",
      "         Current function value: 0.410787\n",
      "         Iterations 6\n",
      "==============================================================================\n",
      "inv_ar * 10\n",
      "==============================================================================\n",
      "                           Logit Regression Results                           \n",
      "==============================================================================\n",
      "Dep. Variable:                      y   No. Observations:                  262\n",
      "Model:                          Logit   Df Residuals:                      261\n",
      "Method:                           MLE   Df Model:                            0\n",
      "Date:                Wed, 07 Nov 2018   Pseudo R-squ.:               -0.008873\n",
      "Time:                        15:16:34   Log-Likelihood:                -107.63\n",
      "converged:                       True   LL-Null:                       -106.68\n",
      "                                        LLR p-value:                       nan\n",
      "==============================================================================\n",
      "                 coef    std err          z      P>|z|      [0.025      0.975]\n",
      "------------------------------------------------------------------------------\n",
      "x1             0.1771      0.019      9.543      0.000       0.141       0.213\n",
      "==============================================================================\n",
      "exp(coef) = 1.1937\n",
      "==============================================================================\n"
     ]
    }
   ],
   "source": [
    "for col in ['width' , 'height', 'ar', 'inv_ar']:\n",
    "\n",
    "    X = np.where(classified_df[col].dtype == np.int64, \n",
    "                 classified_df[col] // 100,\n",
    "                 classified_df[col] * 10) \n",
    "    y=classified_df.outcome.values\n",
    "\n",
    "    logit_model=sm.Logit(y,X)\n",
    "    result=logit_model.fit()\n",
    "    \n",
    "    print('=' * 78)\n",
    "    print(col + (' / 100' if classified_df[col].dtype == np.int64 else ' * 10'))\n",
    "    \n",
    "    print('=' * 78)\n",
    "    print(result.summary())\n",
    "\n",
    "    print('exp(coef) = %.4f' % np.exp(result.params[0]))\n",
    "    print('=' * 78)"
   ]
  },
  {
   "cell_type": "markdown",
   "metadata": {},
   "source": [
    "#### Make up a continious variable that is a difference between predicted and target probabilities for missclassified images (negative) and a difference between target probability and the next class probability for correctly classified images (positive)"
   ]
  },
  {
   "cell_type": "code",
   "execution_count": 16,
   "metadata": {},
   "outputs": [],
   "source": [
    "classified_df['prob_diff'] = np.where(classified_df.target==classified_df.prediction ,\n",
    "                                      classified_df.target_prob-classified_df.prob2,\n",
    "                                      classified_df.target_prob-classified_df.pred_prob)"
   ]
  },
  {
   "cell_type": "code",
   "execution_count": 17,
   "metadata": {},
   "outputs": [
    {
     "data": {
      "text/plain": [
       "<matplotlib.lines.Line2D at 0x23664f23198>"
      ]
     },
     "execution_count": 17,
     "metadata": {},
     "output_type": "execute_result"
    },
    {
     "data": {
      "image/png": "[encoded data removed]",
      "text/plain": [
       "<Figure size 1332x360 with 1 Axes>"
      ]
     },
     "metadata": {},
     "output_type": "display_data"
    }
   ],
   "source": [
    "fig, axes = plt.subplots()\n",
    "fig.set_size_inches(18.5, 5)\n",
    "\n",
    "classified_df.prob_diff.sort_values() \\\n",
    "                       .plot(use_index=False)\n",
    "\n",
    "axes.axhline(y=0 , color='k' , linewidth=0.5)"
   ]
  },
  {
   "cell_type": "code",
   "execution_count": 18,
   "metadata": {},
   "outputs": [
    {
     "data": {
      "image/png": "[encoded data removed]",
      "text/plain": [
       "<Figure size 1332x360 with 1 Axes>"
      ]
     },
     "metadata": {},
     "output_type": "display_data"
    },
    {
     "name": "stdout",
     "output_type": "stream",
     "text": [
      "                 Results: Ordinary least squares\n",
      "=================================================================\n",
      "Model:              OLS              Adj. R-squared:     0.012   \n",
      "Dependent Variable: y                AIC:                431.1138\n",
      "Date:               2018-11-07 15:16 BIC:                438.2505\n",
      "No. Observations:   262              Log-Likelihood:     -213.56 \n",
      "Df Model:           1                F-statistic:        4.089   \n",
      "Df Residuals:       260              Prob (F-statistic): 0.0442  \n",
      "R-squared:          0.015            Scale:              0.30119 \n",
      "-------------------------------------------------------------------\n",
      "           Coef.    Std.Err.      t      P>|t|     [0.025    0.975]\n",
      "-------------------------------------------------------------------\n",
      "const      0.8463     0.1057    8.0075   0.0000    0.6381    1.0544\n",
      "x1        -0.1847     0.0913   -2.0222   0.0442   -0.3646   -0.0048\n",
      "-----------------------------------------------------------------\n",
      "Omnibus:             70.685       Durbin-Watson:          1.533  \n",
      "Prob(Omnibus):       0.000        Jarque-Bera (JB):       121.850\n",
      "Skew:                -1.545       Prob(JB):               0.000  \n",
      "Kurtosis:            4.268        Condition No.:          6      \n",
      "=================================================================\n",
      "\n"
     ]
    }
   ],
   "source": [
    "fig, axes = plt.subplots()\n",
    "fig.set_size_inches(18.5, 5)\n",
    "\n",
    "sns.regplot(x='ar', y='prob_diff', data=classified_df)\n",
    "plt.show()\n",
    "\n",
    "X=classified_df.ar.values\n",
    "y=classified_df.prob_diff.values\n",
    "\n",
    "X1 = sm.add_constant(X)\n",
    "lm_model=sm.OLS(y,X1)\n",
    "result=lm_model.fit()\n",
    "print(result.summary2())\n",
    "\n",
    "#p = lm_model.fit().params\n",
    "\n",
    "#print(p)\n",
    "\n"
   ]
  },
  {
   "cell_type": "code",
   "execution_count": 19,
   "metadata": {},
   "outputs": [],
   "source": [
    "classified_df = classified_df.drop(['ar', 'inv_ar'], axis=1)"
   ]
  },
  {
   "cell_type": "markdown",
   "metadata": {},
   "source": [
    "## Work with Categorical variables"
   ]
  },
  {
   "cell_type": "code",
   "execution_count": 20,
   "metadata": {},
   "outputs": [],
   "source": [
    "classified_df = classified_df.drop(['noticeArtForm', 'noticeDeno'], axis=1)"
   ]
  },
  {
   "cell_type": "code",
   "execution_count": 21,
   "metadata": {},
   "outputs": [
    {
     "name": "stdout",
     "output_type": "stream",
     "text": [
      "<class 'pandas.core.frame.DataFrame'>\n",
      "RangeIndex: 262 entries, 0 to 261\n",
      "Data columns (total 30 columns):\n",
      "Unnamed: 0                  262 non-null int64\n",
      "target                      262 non-null object\n",
      "prediction                  262 non-null object\n",
      "class2                      262 non-null object\n",
      "class3                      262 non-null object\n",
      "class4                      262 non-null object\n",
      "target_prob                 262 non-null float64\n",
      "pred_prob                   262 non-null float64\n",
      "prob2                       262 non-null float64\n",
      "prob3                       262 non-null float64\n",
      "prob4                       262 non-null float64\n",
      "imageFile                   262 non-null object\n",
      "ref                         262 non-null object\n",
      "width                       262 non-null int64\n",
      "height                      262 non-null int64\n",
      "noticeRef                   262 non-null object\n",
      "noticeDomain                262 non-null object\n",
      "noticeRepresentedSubject    262 non-null object\n",
      "noticeTechnique             245 non-null object\n",
      "noticeFunction              9 non-null object\n",
      "noticeDiscipline            99 non-null object\n",
      "noticeRepresentationType    203 non-null object\n",
      "noticePhotocredit           260 non-null object\n",
      "noticeMuseum                214 non-null object\n",
      "noticeTechnique1            245 non-null object\n",
      "noticeTechnique2            192 non-null object\n",
      "noticeTechnique3            102 non-null object\n",
      "noticeDenomination          197 non-null object\n",
      "outcome                     262 non-null int32\n",
      "prob_diff                   262 non-null float64\n",
      "dtypes: float64(6), int32(1), int64(3), object(20)\n",
      "memory usage: 60.5+ KB\n"
     ]
    }
   ],
   "source": [
    "classified_df.info()"
   ]
  },
  {
   "cell_type": "markdown",
   "metadata": {},
   "source": [
    "#### Eliminate variables with missing data less than a threshold (TBD)"
   ]
  },
  {
   "cell_type": "code",
   "execution_count": 22,
   "metadata": {},
   "outputs": [
    {
     "name": "stdout",
     "output_type": "stream",
     "text": [
      "noticeFunction\n",
      "Number of categories: 4\n",
      "Missing values: 96%\n",
      "\n",
      "noticeDiscipline\n",
      "Number of categories: 8\n",
      "Missing values: 62%\n",
      "\n",
      "noticeRepresentationType\n",
      "Number of categories: 4\n",
      "Missing values: 22%\n",
      "\n",
      "noticePhotocredit\n",
      "Number of categories: 92\n",
      "Missing values: 0%\n",
      "\n",
      "noticeMuseum\n",
      "Number of categories: 65\n",
      "Missing values: 18%\n",
      "\n",
      "noticeTechnique1\n",
      "Number of categories: 78\n",
      "Missing values: 6%\n",
      "\n",
      "noticeTechnique2\n",
      "Number of categories: 76\n",
      "Missing values: 26%\n",
      "\n",
      "noticeTechnique3\n",
      "Number of categories: 45\n",
      "Missing values: 61%\n",
      "\n",
      "noticeDenomination\n",
      "Number of categories: 52\n",
      "Missing values: 24%\n",
      "\n"
     ]
    },
    {
     "data": {
      "text/plain": [
       "['noticeRepresentationType',\n",
       " 'noticePhotocredit',\n",
       " 'noticeMuseum',\n",
       " 'noticeTechnique1',\n",
       " 'noticeTechnique2',\n",
       " 'noticeDenomination']"
      ]
     },
     "execution_count": 22,
     "metadata": {},
     "output_type": "execute_result"
    }
   ],
   "source": [
    "kb_col = pd.Series(classified_df.columns)\n",
    "kb_col = kb_col[kb_col.str.startswith('notice')]\n",
    "kb_col = kb_col[4:]\n",
    "\n",
    "kb_col_to_keep = []\n",
    "miss_val_threshold = 0.33\n",
    "for col in kb_col:\n",
    "    print(col)\n",
    "    print('Number of categories: %d' % classified_df[col].unique().size)\n",
    "\n",
    "    missing_count = classified_df[col].loc[(classified_df[col] == '')].count()\n",
    "    missing_count += classified_df[classified_df[col].isnull()].shape[0]\n",
    "    \n",
    "    missing_values_ratio = missing_count / classified_df.shape[0]\n",
    "    \n",
    "    if (missing_values_ratio < miss_val_threshold):\n",
    "        kb_col_to_keep.append(col)\n",
    "    print('Missing values: %d%%' % (missing_values_ratio * 100))\n",
    "    \n",
    "    print()\n",
    "\n",
    "kb_col_to_keep   \n"
   ]
  },
  {
   "cell_type": "code",
   "execution_count": 23,
   "metadata": {},
   "outputs": [],
   "source": [
    "kb_col_to_keep.append('outcome')"
   ]
  },
  {
   "cell_type": "code",
   "execution_count": 24,
   "metadata": {
    "scrolled": false
   },
   "outputs": [
    {
     "data": {
      "text/html": [
       "<div>\n",
       "<style scoped>\n",
       "    .dataframe tbody tr th:only-of-type {\n",
       "        vertical-align: middle;\n",
       "    }\n",
       "\n",
       "    .dataframe tbody tr th {\n",
       "        vertical-align: top;\n",
       "    }\n",
       "\n",
       "    .dataframe thead th {\n",
       "        text-align: right;\n",
       "    }\n",
       "</style>\n",
       "<table border=\"1\" class=\"dataframe\">\n",
       "  <thead>\n",
       "    <tr style=\"text-align: right;\">\n",
       "      <th></th>\n",
       "      <th>noticeRepresentationType</th>\n",
       "      <th>noticePhotocredit</th>\n",
       "      <th>noticeMuseum</th>\n",
       "      <th>noticeTechnique1</th>\n",
       "      <th>noticeTechnique2</th>\n",
       "      <th>noticeDenomination</th>\n",
       "      <th>outcome</th>\n",
       "    </tr>\n",
       "  </thead>\n",
       "  <tbody>\n",
       "    <tr>\n",
       "      <th>0</th>\n",
       "      <td>NaN</td>\n",
       "      <td>© Jean de Calan</td>\n",
       "      <td>M5044</td>\n",
       "      <td>mine de plomb</td>\n",
       "      <td>papier (beige)</td>\n",
       "      <td>élément d'ensemble</td>\n",
       "      <td>0</td>\n",
       "    </tr>\n",
       "    <tr>\n",
       "      <th>1</th>\n",
       "      <td>NaN</td>\n",
       "      <td>© Claudine Pigot - utilisation soumise à autor...</td>\n",
       "      <td>M1096</td>\n",
       "      <td>crayon feutre</td>\n",
       "      <td>papier</td>\n",
       "      <td>NaN</td>\n",
       "      <td>1</td>\n",
       "    </tr>\n",
       "    <tr>\n",
       "      <th>2</th>\n",
       "      <td>NaN</td>\n",
       "      <td>© Claudine Pigot - utilisation soumise à autor...</td>\n",
       "      <td>M1096</td>\n",
       "      <td>gouache</td>\n",
       "      <td>papier</td>\n",
       "      <td>NaN</td>\n",
       "      <td>1</td>\n",
       "    </tr>\n",
       "    <tr>\n",
       "      <th>3</th>\n",
       "      <td>NaN</td>\n",
       "      <td>© Claudine Pigot - utilisation soumise à autor...</td>\n",
       "      <td>M1096</td>\n",
       "      <td>crayon gras</td>\n",
       "      <td>papier</td>\n",
       "      <td>NaN</td>\n",
       "      <td>1</td>\n",
       "    </tr>\n",
       "    <tr>\n",
       "      <th>4</th>\n",
       "      <td>NaN</td>\n",
       "      <td>© musée Condé</td>\n",
       "      <td>M5052</td>\n",
       "      <td>NaN</td>\n",
       "      <td>NaN</td>\n",
       "      <td>tirage photographique</td>\n",
       "      <td>1</td>\n",
       "    </tr>\n",
       "  </tbody>\n",
       "</table>\n",
       "</div>"
      ],
      "text/plain": [
       "  noticeRepresentationType                                  noticePhotocredit  \\\n",
       "0                      NaN                                    © Jean de Calan   \n",
       "1                      NaN  © Claudine Pigot - utilisation soumise à autor...   \n",
       "2                      NaN  © Claudine Pigot - utilisation soumise à autor...   \n",
       "3                      NaN  © Claudine Pigot - utilisation soumise à autor...   \n",
       "4                      NaN                                      © musée Condé   \n",
       "\n",
       "  noticeMuseum noticeTechnique1 noticeTechnique2     noticeDenomination  \\\n",
       "0        M5044    mine de plomb   papier (beige)     élément d'ensemble   \n",
       "1        M1096    crayon feutre           papier                    NaN   \n",
       "2        M1096          gouache           papier                    NaN   \n",
       "3        M1096      crayon gras           papier                    NaN   \n",
       "4        M5052              NaN              NaN  tirage photographique   \n",
       "\n",
       "   outcome  \n",
       "0        0  \n",
       "1        1  \n",
       "2        1  \n",
       "3        1  \n",
       "4        1  "
      ]
     },
     "execution_count": 24,
     "metadata": {},
     "output_type": "execute_result"
    }
   ],
   "source": [
    "categorical_data = classified_df[kb_col_to_keep].copy()\n",
    "categorical_data.head()"
   ]
  },
  {
   "cell_type": "code",
   "execution_count": 25,
   "metadata": {},
   "outputs": [
    {
     "data": {
      "text/html": [
       "<div>\n",
       "<style scoped>\n",
       "    .dataframe tbody tr th:only-of-type {\n",
       "        vertical-align: middle;\n",
       "    }\n",
       "\n",
       "    .dataframe tbody tr th {\n",
       "        vertical-align: top;\n",
       "    }\n",
       "\n",
       "    .dataframe thead th {\n",
       "        text-align: right;\n",
       "    }\n",
       "</style>\n",
       "<table border=\"1\" class=\"dataframe\">\n",
       "  <thead>\n",
       "    <tr style=\"text-align: right;\">\n",
       "      <th></th>\n",
       "      <th>noticeRepresentationType</th>\n",
       "      <th>noticePhotocredit</th>\n",
       "      <th>noticeMuseum</th>\n",
       "      <th>noticeTechnique1</th>\n",
       "      <th>noticeTechnique2</th>\n",
       "      <th>noticeDenomination</th>\n",
       "      <th>outcome</th>\n",
       "    </tr>\n",
       "  </thead>\n",
       "  <tbody>\n",
       "    <tr>\n",
       "      <th>0</th>\n",
       "      <td>NaN</td>\n",
       "      <td>© Jean de Calan</td>\n",
       "      <td>M5044</td>\n",
       "      <td>mine de plomb</td>\n",
       "      <td>papier (beige)</td>\n",
       "      <td>élément d'ensemble</td>\n",
       "      <td>0</td>\n",
       "    </tr>\n",
       "    <tr>\n",
       "      <th>1</th>\n",
       "      <td>NaN</td>\n",
       "      <td>© Claudine Pigot - utilisation soumise à autor...</td>\n",
       "      <td>M1096</td>\n",
       "      <td>crayon feutre</td>\n",
       "      <td>papier</td>\n",
       "      <td>NaN</td>\n",
       "      <td>1</td>\n",
       "    </tr>\n",
       "    <tr>\n",
       "      <th>2</th>\n",
       "      <td>NaN</td>\n",
       "      <td>© Claudine Pigot - utilisation soumise à autor...</td>\n",
       "      <td>M1096</td>\n",
       "      <td>gouache</td>\n",
       "      <td>papier</td>\n",
       "      <td>NaN</td>\n",
       "      <td>1</td>\n",
       "    </tr>\n",
       "    <tr>\n",
       "      <th>3</th>\n",
       "      <td>NaN</td>\n",
       "      <td>© Claudine Pigot - utilisation soumise à autor...</td>\n",
       "      <td>M1096</td>\n",
       "      <td>crayon gras</td>\n",
       "      <td>papier</td>\n",
       "      <td>NaN</td>\n",
       "      <td>1</td>\n",
       "    </tr>\n",
       "    <tr>\n",
       "      <th>4</th>\n",
       "      <td>NaN</td>\n",
       "      <td>© musée Condé</td>\n",
       "      <td>M5052</td>\n",
       "      <td>NaN</td>\n",
       "      <td>NaN</td>\n",
       "      <td>tirage photographique</td>\n",
       "      <td>1</td>\n",
       "    </tr>\n",
       "  </tbody>\n",
       "</table>\n",
       "</div>"
      ],
      "text/plain": [
       "  noticeRepresentationType                                  noticePhotocredit  \\\n",
       "0                      NaN                                    © Jean de Calan   \n",
       "1                      NaN  © Claudine Pigot - utilisation soumise à autor...   \n",
       "2                      NaN  © Claudine Pigot - utilisation soumise à autor...   \n",
       "3                      NaN  © Claudine Pigot - utilisation soumise à autor...   \n",
       "4                      NaN                                      © musée Condé   \n",
       "\n",
       "  noticeMuseum noticeTechnique1 noticeTechnique2     noticeDenomination  \\\n",
       "0        M5044    mine de plomb   papier (beige)     élément d'ensemble   \n",
       "1        M1096    crayon feutre           papier                    NaN   \n",
       "2        M1096          gouache           papier                    NaN   \n",
       "3        M1096      crayon gras           papier                    NaN   \n",
       "4        M5052              NaN              NaN  tirage photographique   \n",
       "\n",
       "   outcome  \n",
       "0        0  \n",
       "1        1  \n",
       "2        1  \n",
       "3        1  \n",
       "4        1  "
      ]
     },
     "execution_count": 25,
     "metadata": {},
     "output_type": "execute_result"
    }
   ],
   "source": [
    "categorical_data[categorical_data.isnull().any(axis=1)].head()"
   ]
  },
  {
   "cell_type": "markdown",
   "metadata": {},
   "source": [
    "#### Fill the missing values"
   ]
  },
  {
   "cell_type": "code",
   "execution_count": 26,
   "metadata": {},
   "outputs": [
    {
     "data": {
      "text/html": [
       "<div>\n",
       "<style scoped>\n",
       "    .dataframe tbody tr th:only-of-type {\n",
       "        vertical-align: middle;\n",
       "    }\n",
       "\n",
       "    .dataframe tbody tr th {\n",
       "        vertical-align: top;\n",
       "    }\n",
       "\n",
       "    .dataframe thead th {\n",
       "        text-align: right;\n",
       "    }\n",
       "</style>\n",
       "<table border=\"1\" class=\"dataframe\">\n",
       "  <thead>\n",
       "    <tr style=\"text-align: right;\">\n",
       "      <th></th>\n",
       "      <th>noticeRepresentationType</th>\n",
       "      <th>noticePhotocredit</th>\n",
       "      <th>noticeMuseum</th>\n",
       "      <th>noticeTechnique1</th>\n",
       "      <th>noticeTechnique2</th>\n",
       "      <th>noticeDenomination</th>\n",
       "      <th>outcome</th>\n",
       "    </tr>\n",
       "  </thead>\n",
       "  <tbody>\n",
       "    <tr>\n",
       "      <th>0</th>\n",
       "      <td>z_missing</td>\n",
       "      <td>© Jean de Calan</td>\n",
       "      <td>M5044</td>\n",
       "      <td>mine de plomb</td>\n",
       "      <td>papier (beige)</td>\n",
       "      <td>élément d'ensemble</td>\n",
       "      <td>0</td>\n",
       "    </tr>\n",
       "    <tr>\n",
       "      <th>1</th>\n",
       "      <td>z_missing</td>\n",
       "      <td>© Claudine Pigot - utilisation soumise à autor...</td>\n",
       "      <td>M1096</td>\n",
       "      <td>crayon feutre</td>\n",
       "      <td>papier</td>\n",
       "      <td>z_missing</td>\n",
       "      <td>1</td>\n",
       "    </tr>\n",
       "    <tr>\n",
       "      <th>2</th>\n",
       "      <td>z_missing</td>\n",
       "      <td>© Claudine Pigot - utilisation soumise à autor...</td>\n",
       "      <td>M1096</td>\n",
       "      <td>gouache</td>\n",
       "      <td>papier</td>\n",
       "      <td>z_missing</td>\n",
       "      <td>1</td>\n",
       "    </tr>\n",
       "    <tr>\n",
       "      <th>3</th>\n",
       "      <td>z_missing</td>\n",
       "      <td>© Claudine Pigot - utilisation soumise à autor...</td>\n",
       "      <td>M1096</td>\n",
       "      <td>crayon gras</td>\n",
       "      <td>papier</td>\n",
       "      <td>z_missing</td>\n",
       "      <td>1</td>\n",
       "    </tr>\n",
       "    <tr>\n",
       "      <th>4</th>\n",
       "      <td>z_missing</td>\n",
       "      <td>© musée Condé</td>\n",
       "      <td>M5052</td>\n",
       "      <td>z_missing</td>\n",
       "      <td>z_missing</td>\n",
       "      <td>tirage photographique</td>\n",
       "      <td>1</td>\n",
       "    </tr>\n",
       "  </tbody>\n",
       "</table>\n",
       "</div>"
      ],
      "text/plain": [
       "  noticeRepresentationType                                  noticePhotocredit  \\\n",
       "0                z_missing                                    © Jean de Calan   \n",
       "1                z_missing  © Claudine Pigot - utilisation soumise à autor...   \n",
       "2                z_missing  © Claudine Pigot - utilisation soumise à autor...   \n",
       "3                z_missing  © Claudine Pigot - utilisation soumise à autor...   \n",
       "4                z_missing                                      © musée Condé   \n",
       "\n",
       "  noticeMuseum noticeTechnique1 noticeTechnique2     noticeDenomination  \\\n",
       "0        M5044    mine de plomb   papier (beige)     élément d'ensemble   \n",
       "1        M1096    crayon feutre           papier              z_missing   \n",
       "2        M1096          gouache           papier              z_missing   \n",
       "3        M1096      crayon gras           papier              z_missing   \n",
       "4        M5052        z_missing        z_missing  tirage photographique   \n",
       "\n",
       "   outcome  \n",
       "0        0  \n",
       "1        1  \n",
       "2        1  \n",
       "3        1  \n",
       "4        1  "
      ]
     },
     "execution_count": 26,
     "metadata": {},
     "output_type": "execute_result"
    }
   ],
   "source": [
    "categorical_data.replace(\"\" , \"z_missing\", inplace=True)\n",
    "categorical_data.fillna(\"z_missing\", inplace=True)\n",
    "categorical_data.head()"
   ]
  },
  {
   "cell_type": "markdown",
   "metadata": {},
   "source": [
    "#### Clean the technique columns a bit"
   ]
  },
  {
   "cell_type": "code",
   "execution_count": 27,
   "metadata": {},
   "outputs": [
    {
     "data": {
      "text/html": [
       "<div>\n",
       "<style scoped>\n",
       "    .dataframe tbody tr th:only-of-type {\n",
       "        vertical-align: middle;\n",
       "    }\n",
       "\n",
       "    .dataframe tbody tr th {\n",
       "        vertical-align: top;\n",
       "    }\n",
       "\n",
       "    .dataframe thead th {\n",
       "        text-align: right;\n",
       "    }\n",
       "</style>\n",
       "<table border=\"1\" class=\"dataframe\">\n",
       "  <thead>\n",
       "    <tr style=\"text-align: right;\">\n",
       "      <th></th>\n",
       "      <th>noticeRepresentationType</th>\n",
       "      <th>noticePhotocredit</th>\n",
       "      <th>noticeMuseum</th>\n",
       "      <th>noticeTechnique1</th>\n",
       "      <th>noticeTechnique2</th>\n",
       "      <th>noticeDenomination</th>\n",
       "      <th>outcome</th>\n",
       "    </tr>\n",
       "  </thead>\n",
       "  <tbody>\n",
       "    <tr>\n",
       "      <th>0</th>\n",
       "      <td>z_missing</td>\n",
       "      <td>© Jean de Calan</td>\n",
       "      <td>M5044</td>\n",
       "      <td>mine de plomb</td>\n",
       "      <td>papier (beige)</td>\n",
       "      <td>élément d'ensemble</td>\n",
       "      <td>0</td>\n",
       "    </tr>\n",
       "    <tr>\n",
       "      <th>1</th>\n",
       "      <td>z_missing</td>\n",
       "      <td>© Claudine Pigot - utilisation soumise à autor...</td>\n",
       "      <td>M1096</td>\n",
       "      <td>crayon feutre</td>\n",
       "      <td>papier</td>\n",
       "      <td>z_missing</td>\n",
       "      <td>1</td>\n",
       "    </tr>\n",
       "    <tr>\n",
       "      <th>2</th>\n",
       "      <td>z_missing</td>\n",
       "      <td>© Claudine Pigot - utilisation soumise à autor...</td>\n",
       "      <td>M1096</td>\n",
       "      <td>gouache</td>\n",
       "      <td>papier</td>\n",
       "      <td>z_missing</td>\n",
       "      <td>1</td>\n",
       "    </tr>\n",
       "    <tr>\n",
       "      <th>3</th>\n",
       "      <td>z_missing</td>\n",
       "      <td>© Claudine Pigot - utilisation soumise à autor...</td>\n",
       "      <td>M1096</td>\n",
       "      <td>crayon gras</td>\n",
       "      <td>papier</td>\n",
       "      <td>z_missing</td>\n",
       "      <td>1</td>\n",
       "    </tr>\n",
       "    <tr>\n",
       "      <th>4</th>\n",
       "      <td>z_missing</td>\n",
       "      <td>© musée Condé</td>\n",
       "      <td>M5052</td>\n",
       "      <td>z_missing</td>\n",
       "      <td>z_missing</td>\n",
       "      <td>tirage photographique</td>\n",
       "      <td>1</td>\n",
       "    </tr>\n",
       "  </tbody>\n",
       "</table>\n",
       "</div>"
      ],
      "text/plain": [
       "  noticeRepresentationType                                  noticePhotocredit  \\\n",
       "0                z_missing                                    © Jean de Calan   \n",
       "1                z_missing  © Claudine Pigot - utilisation soumise à autor...   \n",
       "2                z_missing  © Claudine Pigot - utilisation soumise à autor...   \n",
       "3                z_missing  © Claudine Pigot - utilisation soumise à autor...   \n",
       "4                z_missing                                      © musée Condé   \n",
       "\n",
       "  noticeMuseum noticeTechnique1 noticeTechnique2     noticeDenomination  \\\n",
       "0        M5044    mine de plomb   papier (beige)     élément d'ensemble   \n",
       "1        M1096    crayon feutre           papier              z_missing   \n",
       "2        M1096          gouache           papier              z_missing   \n",
       "3        M1096      crayon gras           papier              z_missing   \n",
       "4        M5052        z_missing        z_missing  tirage photographique   \n",
       "\n",
       "   outcome  \n",
       "0        0  \n",
       "1        1  \n",
       "2        1  \n",
       "3        1  \n",
       "4        1  "
      ]
     },
     "execution_count": 27,
     "metadata": {},
     "output_type": "execute_result"
    }
   ],
   "source": [
    "categorical_data.noticeTechnique1 = categorical_data.noticeTechnique1.apply(lambda x: x.split('(')[0].strip()) \n",
    "#categorical_data.noticeTechnique2 = categorical_data.noticeTechnique2.apply(lambda x: x.split('(')[0].strip()) \n",
    "categorical_data.head()"
   ]
  },
  {
   "cell_type": "markdown",
   "metadata": {},
   "source": [
    "#### Reduce Number of categories"
   ]
  },
  {
   "cell_type": "code",
   "execution_count": 28,
   "metadata": {},
   "outputs": [
    {
     "data": {
      "image/png": "[encoded data removed]",
      "text/plain": [
       "<Figure size 1332x1080 with 6 Axes>"
      ]
     },
     "metadata": {},
     "output_type": "display_data"
    }
   ],
   "source": [
    "n_rows = (categorical_data.shape[1]-1)//2 + (categorical_data.shape[1] - 1)%2\n",
    "\n",
    "fig, axes = plt.subplots(nrows=n_rows, ncols=2)\n",
    "fig.set_size_inches(18.5, 5 * n_rows)\n",
    "\n",
    "for i , col in enumerate(kb_col_to_keep[:-1]):\n",
    "\n",
    "    subplot1 = pd.crosstab(categorical_data[col], categorical_data.outcome).plot(kind='bar', ax=axes[i//2 , int(i%2)] )\n",
    "    subplot1.set_title('Outcome by %s' % col)\n",
    "    subplot1.set_xlabel(col)\n"
   ]
  },
  {
   "cell_type": "code",
   "execution_count": 29,
   "metadata": {},
   "outputs": [
    {
     "data": {
      "text/plain": [
       "{'noticeRepresentationType': 40,\n",
       " 'noticePhotocredit': 15,\n",
       " 'noticeMuseum': 20,\n",
       " 'noticeTechnique1': 30,\n",
       " 'noticeDenomination': 25}"
      ]
     },
     "execution_count": 29,
     "metadata": {},
     "output_type": "execute_result"
    }
   ],
   "source": [
    "categorical_data_reduced = categorical_data.copy()\n",
    "\n",
    "cat_size_threshlod_dict = {'noticeRepresentationType': 40,\n",
    "                           'noticePhotocredit': 15,\n",
    "                           'noticeMuseum': 20,\n",
    "                           'noticeTechnique1' : 30,\n",
    "                            'noticeDenomination' : 25, }\n",
    "cat_size_threshlod_dict"
   ]
  },
  {
   "cell_type": "code",
   "execution_count": null,
   "metadata": {},
   "outputs": [],
   "source": [
    "n_rows = categorical_data.shape[1]-1\n",
    "\n",
    "fig, axes = plt.subplots(nrows=n_rows, ncols=2)\n",
    "fig.set_size_inches(18.5, 5 * n_rows)\n",
    "\n",
    "for i , col in enumerate(kb_col_to_keep[:-1]):\n",
    "\n",
    "    pd.crosstab(categorical_data[col], categorical_data.outcome).plot(kind='bar', ax=axes[i , 0] )\\\n",
    "                                                            .set_title('Outcome by %s (before)' % col) \n",
    "\n",
    "    cat = categorical_data.groupby(by=col).size().sort_values(ascending=False)\n",
    "\n",
    "    categorical_data_reduced[col] = categorical_data[col].replace(cat[cat <= cat_size_threshlod_dict[col]].index.values , \\\n",
    "                                                                    \"z_other\")\n",
    "\n",
    "    pd.crosstab(categorical_data_reduced[col], categorical_data_reduced.outcome).plot(kind='bar', ax=axes[i, 1] )\\\n",
    "                                                                                .set_title('Outcome by %s (after)' % col) \n",
    "    "
   ]
  },
  {
   "cell_type": "code",
   "execution_count": null,
   "metadata": {},
   "outputs": [],
   "source": [
    "#for i , col in enumerate(categorical_data_reduced.columns[:-1]):\n",
    "#    categorical_data_reduced[col] = pd.Categorical(categorical_data_reduced[col])\n",
    "   \n",
    "#categorical_data_reduced.info()"
   ]
  },
  {
   "cell_type": "code",
   "execution_count": null,
   "metadata": {},
   "outputs": [],
   "source": [
    "categorical_data_reduced.head()"
   ]
  },
  {
   "cell_type": "code",
   "execution_count": null,
   "metadata": {},
   "outputs": [],
   "source": [
    "pd.get_dummies(categorical_data_reduced, columns=['noticeTechnique1'], prefix = ['noticeTechnique1'.replace('notice', '' )]).iloc[:, offset:]"
   ]
  },
  {
   "cell_type": "code",
   "execution_count": null,
   "metadata": {
    "scrolled": false
   },
   "outputs": [],
   "source": [
    "offset = categorical_data_reduced.shape[1] - 1\n",
    "\n",
    "for i , col in enumerate(categorical_data_reduced.columns[:-1]):\n",
    "    \n",
    "    X= pd.get_dummies(categorical_data_reduced, columns=[col], prefix = [col.replace('notice', '' )]).iloc[:, offset:]\n",
    "    y=categorical_data_reduced.outcome\n",
    "    \n",
    "    logit_model=sm.Logit(y,X)\n",
    "    result=logit_model.fit()\n",
    "    print('=' * 78)\n",
    "    print(col)\n",
    "    \n",
    "    print('=' * 78)\n",
    "    print(result.summary())\n",
    "    \n",
    "    print('exp(coef):')\n",
    "    print(np.exp(result.params))\n",
    "    print('=' * 78)\n"
   ]
  },
  {
   "cell_type": "markdown",
   "metadata": {},
   "source": [
    "## Feature selection"
   ]
  },
  {
   "cell_type": "markdown",
   "metadata": {},
   "source": [
    "#### Create Dummy Indicator variables"
   ]
  },
  {
   "cell_type": "code",
   "execution_count": null,
   "metadata": {},
   "outputs": [],
   "source": [
    "categorical_data_copy = categorical_data_reduced.copy()\n",
    "\n",
    "for i , col in enumerate(categorical_data_copy.columns[:-1]):\n",
    "    categorical_data_copy = pd.get_dummies(categorical_data_copy, columns=[col], prefix = [col.replace('notice', '' )])\n",
    "\n",
    "\n",
    "categorical_data_copy.head()"
   ]
  },
  {
   "cell_type": "markdown",
   "metadata": {},
   "source": [
    "#### Using scikit.learn Recursive Feature Elimination\n",
    "https://towardsdatascience.com/building-a-logistic-regression-in-python-step-by-step-becd4d56c9c8"
   ]
  },
  {
   "cell_type": "code",
   "execution_count": null,
   "metadata": {},
   "outputs": [],
   "source": [
    "col_to_analize = pd.Series(categorical_data_copy.columns)[1:]\n",
    "\n",
    "logreg = LogisticRegression()\n",
    "\n",
    "rfe = RFE(logreg, 6)\n",
    "rfe = rfe.fit(categorical_data_copy[col_to_analize], categorical_data_copy['outcome'] )\n",
    "\n",
    "print(rfe.n_features_ )\n",
    "print(rfe.support_)\n",
    "print(rfe.ranking_)\n",
    "\n",
    "print(col_to_analize[rfe.support_])"
   ]
  },
  {
   "cell_type": "markdown",
   "metadata": {},
   "source": [
    "#### Build a decision tree for the selected features"
   ]
  },
  {
   "cell_type": "code",
   "execution_count": null,
   "metadata": {},
   "outputs": [],
   "source": [
    "clf = tree.DecisionTreeClassifier(criterion = \"gini\", random_state = 100,\n",
    "                               max_depth=3, min_samples_leaf=5)\n",
    "\n",
    "X = categorical_data_copy[col_to_analize]\n",
    "y = categorical_data_copy.outcome\n",
    "\n",
    "clf.fit(X, y)"
   ]
  },
  {
   "cell_type": "markdown",
   "metadata": {},
   "source": [
    "#### Decision Tree Visualization\n",
    "\n",
    "https://chrisalbon.com/machine_learning/trees_and_forests/visualize_a_decision_tree/"
   ]
  },
  {
   "cell_type": "code",
   "execution_count": null,
   "metadata": {},
   "outputs": [],
   "source": [
    "# Create DOT data\n",
    "dot_data = tree.export_graphviz(clf, out_file=None, \n",
    "                                feature_names=categorical_data_copy.columns[1:],\n",
    "                                filled = True,\n",
    "                                rounded= True)\n",
    "\n",
    "# Draw graph\n",
    "graph = pydotplus.graph_from_dot_data(dot_data)  \n",
    "\n",
    "# Show graph\n",
    "Image(graph.create_png())"
   ]
  },
  {
   "cell_type": "markdown",
   "metadata": {},
   "source": [
    "#### Display Tree with Proprtions"
   ]
  },
  {
   "cell_type": "code",
   "execution_count": null,
   "metadata": {},
   "outputs": [],
   "source": [
    "# Create DOT data\n",
    "dot_data = tree.export_graphviz(clf, out_file=None, \n",
    "                                feature_names=categorical_data_copy.columns[1:],\n",
    "                                filled = True,\n",
    "                                proportion = True,\n",
    "                                rounded = True)\n",
    "\n",
    "# Draw graph\n",
    "graph = pydotplus.graph_from_dot_data(dot_data)  \n",
    "\n",
    "# Show graph\n",
    "Image(graph.create_png())"
   ]
  },
  {
   "cell_type": "markdown",
   "metadata": {},
   "source": [
    "\n",
    "\n",
    "\n",
    "\n",
    "\n",
    "\n",
    "## Scrapbook"
   ]
  },
  {
   "cell_type": "markdown",
   "metadata": {},
   "source": [
    "#### R-style logistic regression"
   ]
  },
  {
   "cell_type": "code",
   "execution_count": null,
   "metadata": {},
   "outputs": [],
   "source": [
    "import statsmodels.api as sm\n",
    "\n",
    "model = sm.formula.glm(\"outcome ~ C(noticeTechnique2)\",\n",
    "                       family=sm.families.Binomial(), data=classified_df).fit()\n",
    "print(model.summary())"
   ]
  },
  {
   "cell_type": "markdown",
   "metadata": {},
   "source": [
    "#### Using Chi-square test to select variables one by one"
   ]
  },
  {
   "cell_type": "code",
   "execution_count": null,
   "metadata": {},
   "outputs": [],
   "source": [
    "import scipy.stats as stats\n",
    "p_values = []\n",
    "for i, col in enumerate(categorical_data_copy.columns[1:]):\n",
    "    _, p , _, _ = stats.chi2_contingency(observed= pd.crosstab(categorical_data_copy[col], categorical_data_copy.outcome))\n",
    "    #_, p  = stats.fisher_exact(pd.crosstab(classified_df_copy[col], classified_df_copy.outcome))\n",
    "    #print(col, round(p ,3))\n",
    "    p_values.append(round(p ,6))\n",
    "\n",
    "p_s = pd.Series(p_values, index=categorical_data_copy.columns[1:])\n",
    "p_s[p_s.values < 0.2].sort_values()\n",
    "#plt.plot(p_values)\n",
    "\n"
   ]
  },
  {
   "cell_type": "code",
   "execution_count": null,
   "metadata": {},
   "outputs": [],
   "source": [
    "print(metrics.classification_report(y_true= classified_df.target,\n",
    "                 y_pred= classified_df.prediction,\n",
    "                 target_names= test_set.classes))"
   ]
  },
  {
   "cell_type": "code",
   "execution_count": null,
   "metadata": {},
   "outputs": [],
   "source": [
    "miss_classified = (classified [(classified[:,0] - classified[:,1] != 0).nonzero(),:]).squeeze() "
   ]
  },
  {
   "cell_type": "code",
   "execution_count": null,
   "metadata": {},
   "outputs": [],
   "source": [
    "def to_class_label(idx):\n",
    "    return test_set.classes[idx]"
   ]
  },
  {
   "cell_type": "code",
   "execution_count": null,
   "metadata": {},
   "outputs": [],
   "source": [
    "# JUst a reminder on what is what\n",
    "what = 'chat'\n",
    "\n",
    "tp = conf_matrix.loc[what,what]\n",
    "print ('tp=%d' % tp)\n",
    "\n",
    "fp = conf_matrix.loc[what,'All'] - tp\n",
    "print ('fp=%d' % fp)\n",
    "\n",
    "fn = conf_matrix.loc['All', what] - tp\n",
    "print ('fp=%d' % fn)\n",
    "\n",
    "recall = tp /(tp+fn)\n",
    "print ('recall=%f' % recall)\n",
    "\n",
    "prec = tp /(tp+fp)\n",
    "print ('prec=%f' % prec)\n",
    "\n",
    "fscore = 2 * prec * recall /(prec + recall)\n",
    "print ('fscore=%f' % fscore)\n"
   ]
  },
  {
   "cell_type": "code",
   "execution_count": null,
   "metadata": {},
   "outputs": [],
   "source": [
    "print(metrics.confusion_matrix(y_true= classified_df.target,\n",
    "                 y_pred= classified_df.prediction))\n"
   ]
  },
  {
   "cell_type": "code",
   "execution_count": null,
   "metadata": {},
   "outputs": [],
   "source": [
    "r = metrics.recall_score(y_true= classified_df.target,\n",
    "                 y_pred= classified_df.prediction,\n",
    "                 average= None)\n",
    "\n",
    "p = metrics.precision_score(y_true= classified_df.target,\n",
    "                 y_pred= classified_df.prediction,\n",
    "                 average= None)\n",
    "\n",
    "f = metrics.f1_score(y_true= classified_df.target,\n",
    "                 y_pred= classified_df.prediction,\n",
    "                 average= None)\n",
    "\n",
    "a = metrics.accuracy_score(y_true= classified_df.target,\n",
    "                 y_pred= classified_df.prediction)\n",
    "\n",
    "output = pd.concat((pd.Series(test_set.classes) ,\n",
    "                    \n",
    "           pd.Series(r.round(3)),\n",
    "           pd.Series(p.round(3)),\n",
    "           pd.Series(f.round(3)),\n",
    "           pd.Series(a.round(3))),\n",
    "           \n",
    "           axis=1 )\n",
    "output.columns = ['class', 'recall', 'precision', 'f1 score', 'accuracy']\n",
    "output"
   ]
  },
  {
   "cell_type": "code",
   "execution_count": null,
   "metadata": {},
   "outputs": [],
   "source": [
    "prfs = metrics.precision_recall_fscore_support(y_true= classified_df.target,\n",
    "                 y_pred= classified_df.prediction)\n",
    "\n",
    "output = pd.concat((pd.Series(test_set.classes) ,\n",
    "           pd.Series(prfs[3].round(3)),         \n",
    "           pd.Series(prfs[1].round(3)),\n",
    "           pd.Series(prfs[0].round(3)),\n",
    "           pd.Series(prfs[2].round(3)),\n",
    "           pd.Series(a.round(3))),\n",
    "           \n",
    "           axis=1 )\n",
    "output.columns = ['class', 'support', 'recall', 'precision', 'f1 score', 'accuracy']\n",
    "output"
   ]
  },
  {
   "cell_type": "code",
   "execution_count": null,
   "metadata": {},
   "outputs": [],
   "source": [
    "numberList = [1, 2, 3]\n",
    "strList = ['one', 'two', 'three']\n",
    "\n",
    "# No iterables are passed\n",
    "result = zip()\n",
    "\n",
    "#Converting itertor to list\n",
    "resultList = list(result)\n",
    "print(resultList)\n",
    "\n",
    "# Two iterables are passed\n",
    "result = zip(numberList, strList)\n",
    "\n",
    "# Converting itertor to set\n",
    "resultSet = set(result)\n",
    "print(resultSet)"
   ]
  },
  {
   "cell_type": "code",
   "execution_count": null,
   "metadata": {},
   "outputs": [],
   "source": [
    "np.random.seed(10)\n",
    "\n",
    "# Sample data randomly at fixed probabilities\n",
    "voter_race = np.random.choice(a= [\"asian\",\"black\",\"hispanic\",\"other\",\"white\"],\n",
    "                              p = [0.05, 0.15 ,0.25, 0.05, 0.5],\n",
    "                              size=1000)\n",
    "\n",
    "# Sample data randomly at fixed probabilities\n",
    "voter_party = np.random.choice(a= [\"democrat\",\"independent\",\"republican\"],\n",
    "                              p = [0.4, 0.2, 0.4],\n",
    "                              size=1000)\n",
    "\n",
    "voters = pd.DataFrame({\"race\":voter_race, \n",
    "                       \"party\":voter_party})\n",
    "voters\n",
    "\n",
    "voter_tab = pd.crosstab(voters.race, voters.party, margins = True)\n",
    "\n",
    "voter_tab.columns = [\"democrat\",\"independent\",\"republican\",\"row_totals\"]\n",
    "\n",
    "voter_tab.index = [\"asian\",\"black\",\"hispanic\",\"other\",\"white\",\"col_totals\"]\n",
    "\n",
    "observed = voter_tab.iloc[0:5,0:3]   # Get table without totals for later use\n",
    "voter_tab"
   ]
  },
  {
   "cell_type": "code",
   "execution_count": null,
   "metadata": {},
   "outputs": [],
   "source": [
    "60*186"
   ]
  },
  {
   "cell_type": "code",
   "execution_count": null,
   "metadata": {},
   "outputs": [],
   "source": [
    "expected =  np.outer(voter_tab[\"row_totals\"][0:5],\n",
    "                     voter_tab.loc[\"col_totals\"][0:3]) / 1000\n",
    "\n",
    "expected = pd.DataFrame(expected)\n",
    "\n",
    "expected.columns = [\"democrat\",\"independent\",\"republican\"]\n",
    "expected.index = [\"asian\",\"black\",\"hispanic\",\"other\",\"white\"]\n",
    "\n",
    "expected"
   ]
  },
  {
   "cell_type": "code",
   "execution_count": null,
   "metadata": {},
   "outputs": [],
   "source": [
    "pd.crosstab(classified_df_copy.artForm_peinture, classified_df_copy.outcome,  margins= True)"
   ]
  },
  {
   "cell_type": "code",
   "execution_count": null,
   "metadata": {},
   "outputs": [],
   "source": [
    "\n",
    "_, p , _, _ = stats.fisher_exact(observed= pd.crosstab(classified_df_copy.artForm_peinture, classified_df_copy.outcome))\n",
    "p"
   ]
  },
  {
   "cell_type": "code",
   "execution_count": null,
   "metadata": {},
   "outputs": [],
   "source": [
    "stats.fisher_exact??"
   ]
  },
  {
   "cell_type": "code",
   "execution_count": null,
   "metadata": {},
   "outputs": [],
   "source": [
    "classified_df.to_csv('image_classification_4000_without_birds.tsv', sep=\"\\t\")"
   ]
  },
  {
   "cell_type": "code",
   "execution_count": null,
   "metadata": {},
   "outputs": [],
   "source": [
    "classified_df = pd.read_csv('image_classification_4000.tsv', sep='\\t')\n",
    "print(classified_df.shape)\n",
    "classified_df.head()"
   ]
  },
  {
   "cell_type": "code",
   "execution_count": null,
   "metadata": {},
   "outputs": [],
   "source": [
    "#labels = classified_df.noticeArtForm.astype('category').cat.categories.tolist()\n",
    "#replace_map_comp = {'noticeArtForm' : {k: v for k,v in zip(labels,list(range(1,len(labels)+1)))}}\n",
    "\n",
    "#print(replace_map_comp['noticeArtForm'])\n",
    "\n",
    "classified_df_copy = classified_df.copy()\n",
    "#classified_df_copy.noticeArtForm.replace(replace_map_comp['noticeArtForm'], inplace=True)\n",
    "#classified_df_copy.noticeArtForm = classified_df_copy.noticeArtForm.astype('category')\n",
    "\n",
    "#classified_df_copy.noticeArtForm = classified_df_copy.noticeArtForm.cat.codes\n",
    "\n",
    "classified_df_copy = pd.get_dummies(classified_df_copy, columns=['noticeArtForm'], prefix = ['artForm'])\n",
    "\n",
    "\n",
    "classified_df_copy.head()"
   ]
  }
 ],
 "metadata": {
  "kernelspec": {
   "display_name": "Python 3",
   "language": "python",
   "name": "python3"
  },
  "language_info": {
   "codemirror_mode": {
    "name": "ipython",
    "version": 3
   },
   "file_extension": ".py",
   "mimetype": "text/x-python",
   "name": "python",
   "nbconvert_exporter": "python",
   "pygments_lexer": "ipython3",
   "version": "3.6.5"
  }
 },
 "nbformat": 4,
 "nbformat_minor": 2
}
